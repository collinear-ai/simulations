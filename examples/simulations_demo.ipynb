{
 "cells": [
  {
   "cell_type": "code",
   "execution_count": null,
   "metadata": {
    "colab": {
     "base_uri": "https://localhost:8080/"
    },
    "executionInfo": {
     "elapsed": 16267,
     "status": "ok",
     "timestamp": 1757533932562,
     "user": {
      "displayName": "Quinten Lisowe",
      "userId": "05399425339750097468"
     },
     "user_tz": 300
    },
    "id": "mDFRrJaPLafN",
    "outputId": "6e066947-4165-45e2-f2a8-85587195beec"
   },
   "outputs": [],
   "source": [
    "!pip install collinear"
   ]
  },
  {
   "cell_type": "code",
   "execution_count": null,
   "metadata": {
    "executionInfo": {
     "elapsed": 2560,
     "status": "ok",
     "timestamp": 1757533960184,
     "user": {
      "displayName": "Quinten Lisowe",
      "userId": "05399425339750097468"
     },
     "user_tz": 300
    },
    "id": "VEV_kvsJLkJ-"
   },
   "outputs": [],
   "source": [
    "from collinear.client import Client\n",
    "from collinear.schemas.steer import SteerConfigInput\n",
    "import logging"
   ]
  },
  {
   "cell_type": "code",
   "execution_count": null,
   "metadata": {
    "executionInfo": {
     "elapsed": 232,
     "status": "ok",
     "timestamp": 1757534412670,
     "user": {
      "displayName": "Quinten Lisowe",
      "userId": "05399425339750097468"
     },
     "user_tz": 300
    },
    "id": "p33x-dw2Lqx5"
   },
   "outputs": [],
   "source": [
    "OPENAI_API_KEY = \"\"\n",
    "STEER_API_KEY = \"\"\n",
    "client = Client(\n",
    "    assistant_model_url=\"https://api.openai.com/v1\",\n",
    "    assistant_model_api_key=OPENAI_API_KEY,\n",
    "    assistant_model_name=\"gpt-4o-mini\",\n",
    "    steer_api_key=STEER_API_KEY,\n",
    "    timeout=120,\n",
    ")\n",
    "steer_config: SteerConfigInput = {\n",
    "    \"ages\": [\"young adult\"],\n",
    "    \"genders\": [\"male\"],\n",
    "    \"occupations\": [\"software engineer\"],\n",
    "    \"intents\": [\"Cancel service\"],\n",
    "    \"traits\": {\"confusion\": [0, 1, 3]},\n",
    "}"
   ]
  },
  {
   "cell_type": "code",
   "execution_count": null,
   "metadata": {
    "colab": {
     "base_uri": "https://localhost:8080/"
    },
    "executionInfo": {
     "elapsed": 36427,
     "status": "ok",
     "timestamp": 1757534450373,
     "user": {
      "displayName": "Quinten Lisowe",
      "userId": "05399425339750097468"
     },
     "user_tz": 300
    },
    "id": "Jy4gD4iMLuh6",
    "outputId": "aa427389-2aab-454f-bcde-93d8a83e7f53"
   },
   "outputs": [],
   "source": [
    "simulations = client.simulate(\n",
    "    steer_config=steer_config,\n",
    "    k=1,\n",
    "    num_exchanges=2,\n",
    "    batch_delay=0.3,\n",
    ")\n",
    "\n",
    "# Pretty-print the simulated conversations and steer details.\n",
    "for i, sim in enumerate(simulations, start=1):\n",
    "    title = f\"Conversation {i}\"\n",
    "    p = sim.steer\n",
    "    if p is not None:\n",
    "        print(\n",
    "            \"Steer Persona:\\n\"\n",
    "            f\"age={p.age}\\n\"\n",
    "            f\"gender={p.gender}\\n\"\n",
    "            f\"occupation={p.occupation}\\n\"\n",
    "            f\"intent={p.intent}\\n\"\n",
    "            f\"trait={p.trait}\\n\"\n",
    "            f\"intensity={p.intensity}\"\n",
    "        )\n",
    "    print(\"---\")\n",
    "    for msg in sim.conv_prefix:\n",
    "        role = str(msg.get(\"role\", \"\"))\n",
    "        content = str(msg.get(\"content\", \"\"))\n",
    "        if content:\n",
    "            print(f\"{role}: {content}\")\n",
    "    print(f\"assistant: {sim.response}\")\n",
    "    print()\n",
    "print(\"All simulations complete\")"
   ]
  },
  {
   "cell_type": "code",
   "execution_count": null,
   "metadata": {
    "colab": {
     "base_uri": "https://localhost:8080/"
    },
    "executionInfo": {
     "elapsed": 5102,
     "status": "ok",
     "timestamp": 1757534622310,
     "user": {
      "displayName": "Quinten Lisowe",
      "userId": "05399425339750097468"
     },
     "user_tz": 300
    },
    "id": "50fa3grpLxa_",
    "outputId": "123eb24e-78ac-48a4-81af-23b94e9d4a85"
   },
   "outputs": [],
   "source": [
    "result = client.assess(dataset=simulations)\n",
    "print(f\"Assessment: {result.message or '<no message>'}\")\n",
    "\n",
    "# Print the assessment for each piece of simulated data\n",
    "for scores_map in result.evaluation_result:\n",
    "    for scores in scores_map.values():\n",
    "        print(f\"  Score: {scores.score}\")\n",
    "        print(f\"  Rationale: {scores.rationale}\")"
   ]
  },
  {
   "cell_type": "code",
   "execution_count": null,
   "metadata": {},
   "outputs": [],
   "source": []
  }
 ],
 "metadata": {
  "colab": {
   "authorship_tag": "ABX9TyM7rchU09Jpkc2yxReTbFAy",
   "provenance": []
  },
  "kernelspec": {
   "display_name": "Python 3 (ipykernel)",
   "language": "python",
   "name": "python3"
  },
  "language_info": {
   "codemirror_mode": {
    "name": "ipython",
    "version": 3
   },
   "file_extension": ".py",
   "mimetype": "text/x-python",
   "name": "python",
   "nbconvert_exporter": "python",
   "pygments_lexer": "ipython3",
   "version": "3.11.13"
  }
 },
 "nbformat": 4,
 "nbformat_minor": 4
}
