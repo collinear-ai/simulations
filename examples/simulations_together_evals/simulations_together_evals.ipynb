{
 "cells": [
  {
   "cell_type": "markdown",
   "metadata": {
    "id": "rMjptH4bTgRb"
   },
   "source": [
    "## Install and Import Dependencies\n",
    "\n",
    "Installs required packages and imports all libraries used below.\n"
   ]
  },
  {
   "cell_type": "code",
   "execution_count": 19,
   "metadata": {
    "executionInfo": {
     "elapsed": 4191,
     "status": "ok",
     "timestamp": 1757615218602,
     "user": {
      "displayName": "Tsach Mackey",
      "userId": "06343373149479742516"
     },
     "user_tz": 420
    },
    "id": "91_FEwA1RUyP"
   },
   "outputs": [],
   "source": [
    "import json\n",
    "import time\n",
    "from pathlib import Path\n",
    "from datetime import datetime\n",
    "\n",
    "import nest_asyncio\n",
    "import together\n",
    "from collinear.client import Client\n",
    "from together.abstract import api_requestor\n",
    "from together.types import TogetherRequest\n",
    "from jinja2 import Environment, FileSystemLoader\n",
    "from pprint import pprint\n",
    "\n",
    "# Necessary to run in a Jupyter notebook\n",
    "nest_asyncio.apply()\n"
   ]
  },
  {
   "cell_type": "markdown",
   "metadata": {
    "id": "Wdpf8OEuVIHF"
   },
   "source": [
    "## Utility functions\n",
    "\n",
    "Defines helpers to build steering personas, format conversations, and enrich results.\n"
   ]
  },
  {
   "cell_type": "code",
   "execution_count": 44,
   "metadata": {
    "executionInfo": {
     "elapsed": 162,
     "status": "ok",
     "timestamp": 1757615218776,
     "user": {
      "displayName": "Tsach Mackey",
      "userId": "06343373149479742516"
     },
     "user_tz": 420
    },
    "id": "NW8ABbOTVNiz"
   },
   "outputs": [],
   "source": [
    "from datetime import datetime\n",
    "def header(title: str) -> None:\n",
    "    line = \"=\" * len(title)\n",
    "    print(line)\n",
    "    print(title)\n",
    "    print(line)\n",
    "\n",
    "def _summarize_results(path: Path) -> None:\n",
    "    header(\"Evaluation Results\")\n",
    "    with path.open('r', encoding='utf-8') as results_file:\n",
    "        for idx, line_text in enumerate(results_file, start=1):\n",
    "            line_text = line_text.strip()\n",
    "            if not line_text:\n",
    "                continue\n",
    "            try:\n",
    "                result_row = json.loads(line_text)\n",
    "            except Exception:\n",
    "                header(f\"Evaluation {idx}\")\n",
    "                print(line_text)\n",
    "                continue\n",
    "            score = result_row.get('score')\n",
    "            passed = result_row.get('pass')\n",
    "            feedback = result_row.get('feedback') or result_row.get('rationale') or ''\n",
    "            status = 'PASS' if isinstance(passed, bool) and passed else ('FAIL' if isinstance(passed, bool) else '-')\n",
    "            header(f\"Evaluation {idx}\")\n",
    "            print(f\"Score: {score if score is not None else '-'}  Status: {status}\")\n",
    "            if feedback:\n",
    "                print('Reason:')\n",
    "                print(feedback)\n",
    "\n",
    "            conversation = result_row.get('conversation')\n",
    "            if isinstance(conversation, str) and conversation:\n",
    "                print()\n",
    "                print('Conversation:')\n",
    "                print(conversation)\n",
    "\n",
    "            assistant_response = result_row.get('assistant_response')\n",
    "            if isinstance(assistant_response, str) and assistant_response:\n",
    "                print()\n",
    "                print('Assistant response:')\n",
    "                print(assistant_response)\n",
    "\n",
    "            persona = result_row.get('steering_persona') or {}\n",
    "            characteristics = persona.get('characteristics') if isinstance(persona, dict) else None\n",
    "            traits = persona.get('traits') if isinstance(persona, dict) else None\n",
    "            if isinstance(characteristics, dict) and characteristics:\n",
    "                print()\n",
    "                print('Characteristics:')\n",
    "                for key, value in characteristics.items():\n",
    "                    print(f\"  {key}: {value}\")\n",
    "            if isinstance(traits, dict) and traits:\n",
    "                print()\n",
    "                print('Traits:')\n",
    "                for key, value in traits.items():\n",
    "                    print(f\"  {key}: {value}\")\n",
    "            print()\n",
    "def build_steering_persona(simulation_runner, steer_combination):\n",
    "    \"\"\"Return persona metadata via the runner's normalization helpers.\"\"\"\n",
    "    if steer_combination is None:\n",
    "        return {'characteristics': {}, 'traits': {}}\n",
    "    characteristics: dict[str, object] = {}\n",
    "    try:\n",
    "        characteristics = simulation_runner._user_characteristics_payload(steer_combination)\n",
    "    except Exception:\n",
    "        characteristics = {}\n",
    "    traits = getattr(steer_combination, 'traits', {}) or {}\n",
    "    return {'characteristics': characteristics, 'traits': traits}\n",
    "\n",
    "def format_conversation(conversation_prefix):\n",
    "    \"\"\"Compact conversation text from message dicts.\"\"\"\n",
    "    return '\\n'.join(\n",
    "        f\"{message.get('role', '')}: {message.get('content', '')}\"\n",
    "        for message in conversation_prefix\n",
    "        if message.get('content')\n",
    "    )\n",
    "\n",
    "def make_dataset_row(simulation_runner, simulation):\n",
    "    \"\"\"Build a single dataset row with persona characteristics included.\"\"\"\n",
    "    return {\n",
    "        'conversation': format_conversation(simulation.conv_prefix),\n",
    "        'last_response': simulation.response,\n",
    "        'steering_persona': build_steering_persona(simulation_runner, getattr(simulation, 'steer', None)),\n",
    "    }\n",
    "\n",
    "def load_persona_lookup(dataset_path: Path):\n",
    "    \"\"\"Map (conversation, assistant_response) -> steering_persona from dataset.\"\"\"\n",
    "    persona_lookup = {}\n",
    "    with dataset_path.open('r', encoding='utf-8') as dataset_file:\n",
    "        for line_text in dataset_file:\n",
    "            try:\n",
    "                dataset_row = json.loads(line_text)\n",
    "            except Exception:\n",
    "                continue\n",
    "            join_key = (dataset_row.get('conversation'), dataset_row.get('assistant_response'))\n",
    "            steering_persona = dataset_row.get('steering_persona')\n",
    "            if isinstance(join_key[0], str) and isinstance(join_key[1], str) and isinstance(steering_persona, dict):\n",
    "                persona_lookup[join_key] = steering_persona\n",
    "    return persona_lookup\n",
    "\n",
    "def enrich_results_inplace(results_path: Path, persona_lookup):\n",
    "    \"\"\"Attach steering_persona to Together results in place using lookup.\"\"\"\n",
    "    updated_lines = []\n",
    "    with results_path.open('r', encoding='utf-8') as results_file:\n",
    "        for line_text in results_file:\n",
    "            try:\n",
    "                result_row = json.loads(line_text)\n",
    "                steering_persona = persona_lookup.get((result_row.get('conversation'), result_row.get('assistant_response')))\n",
    "                if isinstance(steering_persona, dict):\n",
    "                    result_row['steering_persona'] = steering_persona\n",
    "                updated_lines.append(json.dumps(result_row, ensure_ascii=False) + '\\n')\n",
    "            except Exception:\n",
    "                updated_lines.append(line_text)\n",
    "    with results_path.open('w', encoding='utf-8') as results_file:\n",
    "        results_file.writelines(updated_lines)\n",
    "\n",
    "def display_persona(sim_runner, simulation):\n",
    "    raw = build_steering_persona(sim_runner, getattr(simulation, 'steer', None))\n",
    "    persona = {\n",
    "      'characteristics': dict(raw.get('characteristics', {})),\n",
    "      'traits': dict(raw.get('traits', {})),\n",
    "    }\n",
    "    pprint(persona)\n",
    "\n",
    "def _slugify_filename(value: str, default: str = 'value') -> str:\n",
    "    allowed = set('abcdefghijklmnopqrstuvwxyz0123456789-_')\n",
    "    text = (value or '').lower().replace(' ', '-')\n",
    "    cleaned = ''.join(ch for ch in text if ch in allowed)\n",
    "    return cleaned or default\n",
    "\n",
    "def _format_numeric_for_filename(value) -> str:\n",
    "    if isinstance(value, float):\n",
    "        formatted = f\"{value:.2f}\".rstrip('0').rstrip('.')\n",
    "    else:\n",
    "        formatted = str(value)\n",
    "    return formatted.replace('.', 'p')\n",
    "\n"
   ]
  },
  {
   "cell_type": "markdown",
   "metadata": {
    "id": "xWBXYPgGTI43"
   },
   "source": [
    "## Load Config\n",
    "\n",
    "Loads simulation, judge, and Together settings from JSON files.\n"
   ]
  },
  {
   "cell_type": "code",
   "execution_count": null,
   "metadata": {},
   "outputs": [
    {
     "name": "stdout",
     "output_type": "stream",
     "text": [
      "Loaded simulation: configs/simulation_config.json | steering: configs/steering_config_airline.json | tasks: ['airline support']\n"
     ]
    }
   ],
   "source": [
    "# Config Variables (from simulation_config.json and steering_config_*.json)\n",
    "\n",
    "CONFIG_DIR = Path('configs')\n",
    "SIMULATION_CONFIG_FILE = CONFIG_DIR / 'simulation_config.json'\n",
    "config_data = json.loads(SIMULATION_CONFIG_FILE.read_text())\n",
    "\n",
    "steering_config_value = config_data.get('steering_config_file') or 'steering_config_airline.json'\n",
    "steering_candidate = Path(steering_config_value)\n",
    "if not steering_candidate.is_absolute():\n",
    "    steering_candidate = CONFIG_DIR / steering_candidate.name\n",
    "STEERING_CONFIG_FILE = steering_candidate\n",
    "STEER_CONFIG = json.loads(STEERING_CONFIG_FILE.read_text())\n",
    "STEER_TASKS = list(STEER_CONFIG.get('tasks', []))\n",
    "\n",
    "# Client options\n",
    "client_settings = config_data.get('client', {}) or {}\n",
    "CLIENT_ASSISTANT_MODEL_URL = client_settings.get('assistant_model_url', 'https://api.together.xyz/v1')\n",
    "CLIENT_ASSISTANT_MODEL_API_KEY = client_settings.get('assistant_model_api_key')\n",
    "CLIENT_ASSISTANT_MODEL_NAME = client_settings.get('assistant_model_name', 'meta-llama/Meta-Llama-3.1-8B-Instruct-Turbo')\n",
    "CLIENT_STEER_API_KEY = client_settings.get('steer_api_key', 'demo-001')\n",
    "CLIENT_TIMEOUT = int(client_settings.get('timeout', 120))\n",
    "CLIENT_MAX_RETRIES = int(client_settings.get('max_retries', 3))\n",
    "CLIENT_RATE_LIMIT_RETRIES = int(client_settings.get('rate_limit_retries', 6))\n",
    "\n",
    "# Simulation options\n",
    "simulate_settings = config_data.get('simulate', {}) or {}\n",
    "SIM_SAMPLES = simulate_settings.get('k', 3)\n",
    "SIM_EXCHANGES = simulate_settings.get('num_exchanges', 2)\n",
    "SIM_DELAY = simulate_settings.get('batch_delay', 0.2)\n",
    "SIM_STEER_TEMPERATURE = simulate_settings.get('steer_temperature', 0.7)\n",
    "SIM_STEER_MAX_TOKENS = simulate_settings.get('steer_max_tokens', 256)\n",
    "SIM_MIX_TRAITS = bool(simulate_settings.get('mix_traits', False))\n",
    "SIM_MAX_CONCURRENCY = int(simulate_settings.get('max_concurrency', 8))\n",
    "\n",
    "# Assessment options\n",
    "assess_settings = config_data.get('assess', {}) or {}\n",
    "ASSESS_JUDGE_MODEL_URL = assess_settings.get('judge_model_url')\n",
    "ASSESS_JUDGE_MODEL_API_KEY = assess_settings.get('judge_model_api_key')\n",
    "ASSESS_JUDGE_MODEL_NAME = assess_settings.get('judge_model_name')\n",
    "\n",
    "# Together-specific options\n",
    "together_settings = config_data.get('together', {}) or {}\n",
    "SIMULATED_CONVERSATION_DIRECTORY = together_settings.get('output_directory', '.')\n",
    "SIMULATED_CONVERSATION_FILENAME = together_settings.get('output_filename', 'collinear_eval_dataset')\n",
    "\n",
    "judge_template_value = together_settings.get('judge_system_prompt') or 'configs/judge_system_prompt.jinja'\n",
    "judge_template_path = Path(judge_template_value)\n",
    "JUDGE_SYSTEM_PROMPT = judge_template_path.read_text(encoding='utf-8')\n",
    "\n",
    "TOGETHER_UPLOAD_PURPOSE = together_settings.get('upload_purpose', 'eval')\n",
    "TOGETHER_EVAL_TYPE = together_settings.get('evaluation_type', 'score')\n",
    "TOGETHER_MODEL_TO_EVALUATE = together_settings.get('model_to_evaluate', 'assistant_response')\n",
    "TOGETHER_JUDGE_MODEL_SOURCE = together_settings.get('judge_model_source', 'serverless')\n",
    "TOGETHER_MIN_SCORE = together_settings.get('min_score', 1.0)\n",
    "TOGETHER_MAX_SCORE = together_settings.get('max_score', 10.0)\n",
    "TOGETHER_PASS_THRESHOLD = together_settings.get('pass_threshold', 7.0)\n",
    "TOGETHER_POLL_TIMEOUT_SECONDS = int(together_settings.get('poll_timeout_seconds', 300))\n",
    "TOGETHER_POLL_INTERVAL_SECONDS = int(together_settings.get('poll_interval_seconds', 5))\n",
    "RESULTS_FILENAME_PREFIX = together_settings.get('results_filename_prefix', 'together_eval_')\n",
    "\n",
    "# Derived output metadata\n",
    "RESULTS_DIR = Path(SIMULATED_CONVERSATION_DIRECTORY) / 'results'\n",
    "TRAIT_CONFIG = STEER_CONFIG.get('traits') or {}\n",
    "TRAIT_KEYS = sorted(TRAIT_CONFIG.keys())\n",
    "TRAIT_SUMMARY = 'traits-none' if not TRAIT_KEYS else 'traits-' + '_'.join(_slugify_filename(name) for name in TRAIT_KEYS)\n",
    "STEER_SUMMARY = f\"trait-mix-{_slugify_filename(STEERING_CONFIG_FILE.stem, default='steer')}\"\n",
    "METADATA_PARTS = [\n",
    "    STEER_SUMMARY,\n",
    "    TRAIT_SUMMARY,\n",
    "    f\"temp-{_format_numeric_for_filename(SIM_STEER_TEMPERATURE)}\",\n",
    "    f\"k-{SIM_SAMPLES}\",\n",
    "    f\"turns-{SIM_EXCHANGES}\",\n",
    "    f\"mix-{'on' if SIM_MIX_TRAITS else 'off'}\"\n",
    "]\n",
    "\n",
    "print(f'Loaded simulation: {SIMULATION_CONFIG_FILE} | steering: {STEERING_CONFIG_FILE} | tasks: {STEER_TASKS or \"<none>\"}')\n"
   ]
  },
  {
   "cell_type": "code",
   "execution_count": 47,
   "metadata": {},
   "outputs": [],
   "source": [
    "import os\n",
    "\n",
    "if CLIENT_ASSISTANT_MODEL_API_KEY:\n",
    "    os.environ['OPENAI_API_KEY'] = CLIENT_ASSISTANT_MODEL_API_KEY\n",
    "if CLIENT_ASSISTANT_MODEL_URL:\n",
    "    os.environ['OPENAI_BASE_URL'] = CLIENT_ASSISTANT_MODEL_URL\n",
    "if CLIENT_STEER_API_KEY:\n",
    "    os.environ['STEER_API_KEY'] = CLIENT_STEER_API_KEY\n"
   ]
  },
  {
   "cell_type": "markdown",
   "metadata": {},
   "source": [
    "## Client setup\n",
    "\n",
    "Initializes the Collinear client and applies optional custom system prompts.\n"
   ]
  },
  {
   "cell_type": "code",
   "execution_count": 49,
   "metadata": {
    "executionInfo": {
     "elapsed": 331,
     "status": "ok",
     "timestamp": 1757615357703,
     "user": {
      "displayName": "Tsach Mackey",
      "userId": "06343373149479742516"
     },
     "user_tz": 420
    },
    "id": "9gUY0rdqSov5"
   },
   "outputs": [],
   "source": [
    "# Client setup\n",
    "if not CLIENT_ASSISTANT_MODEL_API_KEY:\n",
    "    raise RuntimeError('assistant_model_api_key must be set in configs/simulation_config.json')\n",
    "\n",
    "client = Client(\n",
    "    assistant_model_url=CLIENT_ASSISTANT_MODEL_URL,\n",
    "    assistant_model_api_key=CLIENT_ASSISTANT_MODEL_API_KEY,\n",
    "    assistant_model_name=CLIENT_ASSISTANT_MODEL_NAME,\n",
    "    steer_api_key=CLIENT_STEER_API_KEY,\n",
    "    timeout=CLIENT_TIMEOUT,\n",
    "    max_retries=CLIENT_MAX_RETRIES,\n",
    "    rate_limit_retries=CLIENT_RATE_LIMIT_RETRIES,\n",
    ")\n",
    "\n",
    "runner = client.simulation_runner\n"
   ]
  },
  {
   "cell_type": "markdown",
   "metadata": {
    "id": "8ej6XeZcTuux"
   },
   "source": [
    "## Generate simulated user interactions\n",
    "\n",
    "Runs simulations and writes a JSONL dataset with conversation, assistant response, and steering persona.\n"
   ]
  },
  {
   "cell_type": "code",
   "execution_count": 51,
   "metadata": {
    "colab": {
     "base_uri": "https://localhost:8080/",
     "height": 1000
    },
    "executionInfo": {
     "elapsed": 4508,
     "status": "error",
     "timestamp": 1757615366646,
     "user": {
      "displayName": "Tsach Mackey",
      "userId": "06343373149479742516"
     },
     "user_tz": 420
    },
    "id": "h6Wb_3S8T8or",
    "outputId": "9a5d94cf-70b0-4f26-ad91-a320af07bcd3"
   },
   "outputs": [
    {
     "name": "stderr",
     "output_type": "stream",
     "text": [
      "User/Assistant turns:  19%|█▉        | 19/100 [00:09<00:41,  1.95query/s]\n"
     ]
    },
    {
     "ename": "KeyboardInterrupt",
     "evalue": "",
     "output_type": "error",
     "traceback": [
      "\u001b[31m---------------------------------------------------------------------------\u001b[39m",
      "\u001b[31mKeyboardInterrupt\u001b[39m                         Traceback (most recent call last)",
      "\u001b[36mCell\u001b[39m\u001b[36m \u001b[39m\u001b[32mIn[51]\u001b[39m\u001b[32m, line 3\u001b[39m\n\u001b[32m      1\u001b[39m \u001b[38;5;66;03m# Generate simulations\u001b[39;00m\n\u001b[32m----> \u001b[39m\u001b[32m3\u001b[39m simulations = \u001b[43mclient\u001b[49m\u001b[43m.\u001b[49m\u001b[43msimulate\u001b[49m\u001b[43m(\u001b[49m\n\u001b[32m      4\u001b[39m \u001b[43m    \u001b[49m\u001b[43msteer_config\u001b[49m\u001b[43m=\u001b[49m\u001b[43mSTEER_CONFIG\u001b[49m\u001b[43m,\u001b[49m\n\u001b[32m      5\u001b[39m \u001b[43m    \u001b[49m\u001b[43mk\u001b[49m\u001b[43m=\u001b[49m\u001b[43mSIM_SAMPLES\u001b[49m\u001b[43m,\u001b[49m\n\u001b[32m      6\u001b[39m \u001b[43m    \u001b[49m\u001b[43mnum_exchanges\u001b[49m\u001b[43m=\u001b[49m\u001b[43mSIM_EXCHANGES\u001b[49m\u001b[43m,\u001b[49m\n\u001b[32m      7\u001b[39m \u001b[43m    \u001b[49m\u001b[43mbatch_delay\u001b[49m\u001b[43m=\u001b[49m\u001b[43mSIM_DELAY\u001b[49m\u001b[43m,\u001b[49m\n\u001b[32m      8\u001b[39m \u001b[43m    \u001b[49m\u001b[43msteer_temperature\u001b[49m\u001b[43m=\u001b[49m\u001b[43mSIM_STEER_TEMPERATURE\u001b[49m\u001b[43m,\u001b[49m\n\u001b[32m      9\u001b[39m \u001b[43m    \u001b[49m\u001b[43msteer_max_tokens\u001b[49m\u001b[43m=\u001b[49m\u001b[43mSIM_STEER_MAX_TOKENS\u001b[49m\u001b[43m,\u001b[49m\n\u001b[32m     10\u001b[39m \u001b[43m    \u001b[49m\u001b[43mmix_traits\u001b[49m\u001b[43m=\u001b[49m\u001b[43mSIM_MIX_TRAITS\u001b[49m\u001b[43m,\u001b[49m\n\u001b[32m     11\u001b[39m \u001b[43m    \u001b[49m\u001b[43mmax_concurrency\u001b[49m\u001b[43m=\u001b[49m\u001b[43mSIM_MAX_CONCURRENCY\u001b[49m\u001b[43m,\u001b[49m\n\u001b[32m     12\u001b[39m \u001b[43m)\u001b[49m\n\u001b[32m     14\u001b[39m results_dir = Path(RESULTS_DIR)\n\u001b[32m     15\u001b[39m results_dir.mkdir(parents=\u001b[38;5;28;01mTrue\u001b[39;00m, exist_ok=\u001b[38;5;28;01mTrue\u001b[39;00m)\n",
      "\u001b[36mFile \u001b[39m\u001b[32m~/workspace/collinear/.venv/lib/python3.12/site-packages/collinear/client.py:125\u001b[39m, in \u001b[36mClient.simulate\u001b[39m\u001b[34m(self, steer_config, k, num_exchanges, batch_delay, steer_temperature, steer_max_tokens, steer_seed, mix_traits, progress, max_concurrency)\u001b[39m\n\u001b[32m     84\u001b[39m \u001b[38;5;250m\u001b[39m\u001b[33;03m\"\"\"Run simulations with steers against the model.\u001b[39;00m\n\u001b[32m     85\u001b[39m \n\u001b[32m     86\u001b[39m \u001b[33;03mArgs:\u001b[39;00m\n\u001b[32m   (...)\u001b[39m\u001b[32m    122\u001b[39m \n\u001b[32m    123\u001b[39m \u001b[33;03m\"\"\"\u001b[39;00m\n\u001b[32m    124\u001b[39m config = SteerConfig.from_input(steer_config)\n\u001b[32m--> \u001b[39m\u001b[32m125\u001b[39m \u001b[38;5;28;01mreturn\u001b[39;00m \u001b[38;5;28;43mself\u001b[39;49m\u001b[43m.\u001b[49m\u001b[43msimulation_runner\u001b[49m\u001b[43m.\u001b[49m\u001b[43mrun\u001b[49m\u001b[43m(\u001b[49m\n\u001b[32m    126\u001b[39m \u001b[43m    \u001b[49m\u001b[43mconfig\u001b[49m\u001b[43m=\u001b[49m\u001b[43mconfig\u001b[49m\u001b[43m,\u001b[49m\n\u001b[32m    127\u001b[39m \u001b[43m    \u001b[49m\u001b[43mk\u001b[49m\u001b[43m=\u001b[49m\u001b[43mk\u001b[49m\u001b[43m,\u001b[49m\n\u001b[32m    128\u001b[39m \u001b[43m    \u001b[49m\u001b[43mnum_exchanges\u001b[49m\u001b[43m=\u001b[49m\u001b[43mnum_exchanges\u001b[49m\u001b[43m,\u001b[49m\n\u001b[32m    129\u001b[39m \u001b[43m    \u001b[49m\u001b[43mbatch_delay\u001b[49m\u001b[43m=\u001b[49m\u001b[43mbatch_delay\u001b[49m\u001b[43m,\u001b[49m\n\u001b[32m    130\u001b[39m \u001b[43m    \u001b[49m\u001b[43msteer_temperature\u001b[49m\u001b[43m=\u001b[49m\u001b[43msteer_temperature\u001b[49m\u001b[43m,\u001b[49m\n\u001b[32m    131\u001b[39m \u001b[43m    \u001b[49m\u001b[43msteer_max_tokens\u001b[49m\u001b[43m=\u001b[49m\u001b[43msteer_max_tokens\u001b[49m\u001b[43m,\u001b[49m\n\u001b[32m    132\u001b[39m \u001b[43m    \u001b[49m\u001b[43msteer_seed\u001b[49m\u001b[43m=\u001b[49m\u001b[43msteer_seed\u001b[49m\u001b[43m,\u001b[49m\n\u001b[32m    133\u001b[39m \u001b[43m    \u001b[49m\u001b[43mmix_traits\u001b[49m\u001b[43m=\u001b[49m\u001b[43mmix_traits\u001b[49m\u001b[43m,\u001b[49m\n\u001b[32m    134\u001b[39m \u001b[43m    \u001b[49m\u001b[43mprogress\u001b[49m\u001b[43m=\u001b[49m\u001b[43mprogress\u001b[49m\u001b[43m,\u001b[49m\n\u001b[32m    135\u001b[39m \u001b[43m    \u001b[49m\u001b[43mmax_concurrency\u001b[49m\u001b[43m=\u001b[49m\u001b[43mmax_concurrency\u001b[49m\u001b[43m,\u001b[49m\n\u001b[32m    136\u001b[39m \u001b[43m\u001b[49m\u001b[43m)\u001b[49m\n",
      "\u001b[36mFile \u001b[39m\u001b[32m~/workspace/collinear/.venv/lib/python3.12/site-packages/collinear/simulate/runner.py:184\u001b[39m, in \u001b[36mSimulationRunner.run\u001b[39m\u001b[34m(self, config, k, num_exchanges, batch_delay, steer_temperature, steer_max_tokens, steer_seed, mix_traits, progress, max_concurrency)\u001b[39m\n\u001b[32m    143\u001b[39m \u001b[38;5;28;01mdef\u001b[39;00m\u001b[38;5;250m \u001b[39m\u001b[34mrun\u001b[39m(\n\u001b[32m    144\u001b[39m     \u001b[38;5;28mself\u001b[39m,\n\u001b[32m    145\u001b[39m     config: SteerConfig,\n\u001b[32m   (...)\u001b[39m\u001b[32m    155\u001b[39m     max_concurrency: \u001b[38;5;28mint\u001b[39m = DEFAULT_CONCURRENCY,\n\u001b[32m    156\u001b[39m ) -> \u001b[38;5;28mlist\u001b[39m[SimulationResult]:\n\u001b[32m    157\u001b[39m \u001b[38;5;250m    \u001b[39m\u001b[33;03m\"\"\"Run simulations with the given configuration.\u001b[39;00m\n\u001b[32m    158\u001b[39m \n\u001b[32m    159\u001b[39m \u001b[33;03m    Args:\u001b[39;00m\n\u001b[32m   (...)\u001b[39m\u001b[32m    182\u001b[39m \n\u001b[32m    183\u001b[39m \u001b[33;03m    \"\"\"\u001b[39;00m\n\u001b[32m--> \u001b[39m\u001b[32m184\u001b[39m     \u001b[38;5;28;01mreturn\u001b[39;00m \u001b[43masyncio\u001b[49m\u001b[43m.\u001b[49m\u001b[43mrun\u001b[49m\u001b[43m(\u001b[49m\n\u001b[32m    185\u001b[39m \u001b[43m        \u001b[49m\u001b[38;5;28;43mself\u001b[39;49m\u001b[43m.\u001b[49m\u001b[43mrun_async\u001b[49m\u001b[43m(\u001b[49m\n\u001b[32m    186\u001b[39m \u001b[43m            \u001b[49m\u001b[43mconfig\u001b[49m\u001b[43m,\u001b[49m\n\u001b[32m    187\u001b[39m \u001b[43m            \u001b[49m\u001b[43mk\u001b[49m\u001b[43m,\u001b[49m\n\u001b[32m    188\u001b[39m \u001b[43m            \u001b[49m\u001b[43mnum_exchanges\u001b[49m\u001b[43m,\u001b[49m\n\u001b[32m    189\u001b[39m \u001b[43m            \u001b[49m\u001b[43mbatch_delay\u001b[49m\u001b[43m,\u001b[49m\n\u001b[32m    190\u001b[39m \u001b[43m            \u001b[49m\u001b[43msteer_temperature\u001b[49m\u001b[43m=\u001b[49m\u001b[43msteer_temperature\u001b[49m\u001b[43m,\u001b[49m\n\u001b[32m    191\u001b[39m \u001b[43m            \u001b[49m\u001b[43msteer_max_tokens\u001b[49m\u001b[43m=\u001b[49m\u001b[43msteer_max_tokens\u001b[49m\u001b[43m,\u001b[49m\n\u001b[32m    192\u001b[39m \u001b[43m            \u001b[49m\u001b[43msteer_seed\u001b[49m\u001b[43m=\u001b[49m\u001b[43msteer_seed\u001b[49m\u001b[43m,\u001b[49m\n\u001b[32m    193\u001b[39m \u001b[43m            \u001b[49m\u001b[43mmix_traits\u001b[49m\u001b[43m=\u001b[49m\u001b[43mmix_traits\u001b[49m\u001b[43m,\u001b[49m\n\u001b[32m    194\u001b[39m \u001b[43m            \u001b[49m\u001b[43mprogress\u001b[49m\u001b[43m=\u001b[49m\u001b[43mprogress\u001b[49m\u001b[43m,\u001b[49m\n\u001b[32m    195\u001b[39m \u001b[43m            \u001b[49m\u001b[43mmax_concurrency\u001b[49m\u001b[43m=\u001b[49m\u001b[43mmax_concurrency\u001b[49m\u001b[43m,\u001b[49m\n\u001b[32m    196\u001b[39m \u001b[43m        \u001b[49m\u001b[43m)\u001b[49m\n\u001b[32m    197\u001b[39m \u001b[43m    \u001b[49m\u001b[43m)\u001b[49m\n",
      "\u001b[36mFile \u001b[39m\u001b[32m~/workspace/collinear/.venv/lib/python3.12/site-packages/nest_asyncio.py:35\u001b[39m, in \u001b[36m_patch_asyncio.<locals>.run\u001b[39m\u001b[34m(main, debug)\u001b[39m\n\u001b[32m     33\u001b[39m task.cancel()\n\u001b[32m     34\u001b[39m \u001b[38;5;28;01mwith\u001b[39;00m suppress(asyncio.CancelledError):\n\u001b[32m---> \u001b[39m\u001b[32m35\u001b[39m     \u001b[43mloop\u001b[49m\u001b[43m.\u001b[49m\u001b[43mrun_until_complete\u001b[49m\u001b[43m(\u001b[49m\u001b[43mtask\u001b[49m\u001b[43m)\u001b[49m\n",
      "\u001b[36mFile \u001b[39m\u001b[32m~/workspace/collinear/.venv/lib/python3.12/site-packages/nest_asyncio.py:92\u001b[39m, in \u001b[36m_patch_loop.<locals>.run_until_complete\u001b[39m\u001b[34m(self, future)\u001b[39m\n\u001b[32m     90\u001b[39m     f._log_destroy_pending = \u001b[38;5;28;01mFalse\u001b[39;00m\n\u001b[32m     91\u001b[39m \u001b[38;5;28;01mwhile\u001b[39;00m \u001b[38;5;129;01mnot\u001b[39;00m f.done():\n\u001b[32m---> \u001b[39m\u001b[32m92\u001b[39m     \u001b[38;5;28;43mself\u001b[39;49m\u001b[43m.\u001b[49m\u001b[43m_run_once\u001b[49m\u001b[43m(\u001b[49m\u001b[43m)\u001b[49m\n\u001b[32m     93\u001b[39m     \u001b[38;5;28;01mif\u001b[39;00m \u001b[38;5;28mself\u001b[39m._stopping:\n\u001b[32m     94\u001b[39m         \u001b[38;5;28;01mbreak\u001b[39;00m\n",
      "\u001b[36mFile \u001b[39m\u001b[32m~/workspace/collinear/.venv/lib/python3.12/site-packages/nest_asyncio.py:133\u001b[39m, in \u001b[36m_patch_loop.<locals>._run_once\u001b[39m\u001b[34m(self)\u001b[39m\n\u001b[32m    130\u001b[39m curr_task = curr_tasks.pop(\u001b[38;5;28mself\u001b[39m, \u001b[38;5;28;01mNone\u001b[39;00m)\n\u001b[32m    132\u001b[39m \u001b[38;5;28;01mtry\u001b[39;00m:\n\u001b[32m--> \u001b[39m\u001b[32m133\u001b[39m     \u001b[43mhandle\u001b[49m\u001b[43m.\u001b[49m\u001b[43m_run\u001b[49m\u001b[43m(\u001b[49m\u001b[43m)\u001b[49m\n\u001b[32m    134\u001b[39m \u001b[38;5;28;01mfinally\u001b[39;00m:\n\u001b[32m    135\u001b[39m     \u001b[38;5;66;03m# restore the current task\u001b[39;00m\n\u001b[32m    136\u001b[39m     \u001b[38;5;28;01mif\u001b[39;00m curr_task \u001b[38;5;129;01mis\u001b[39;00m \u001b[38;5;129;01mnot\u001b[39;00m \u001b[38;5;28;01mNone\u001b[39;00m:\n",
      "\u001b[36mFile \u001b[39m\u001b[32m~/.local/share/uv/python/cpython-3.12.11-macos-aarch64-none/lib/python3.12/asyncio/events.py:88\u001b[39m, in \u001b[36mHandle._run\u001b[39m\u001b[34m(self)\u001b[39m\n\u001b[32m     86\u001b[39m \u001b[38;5;28;01mdef\u001b[39;00m\u001b[38;5;250m \u001b[39m\u001b[34m_run\u001b[39m(\u001b[38;5;28mself\u001b[39m):\n\u001b[32m     87\u001b[39m     \u001b[38;5;28;01mtry\u001b[39;00m:\n\u001b[32m---> \u001b[39m\u001b[32m88\u001b[39m         \u001b[38;5;28;43mself\u001b[39;49m\u001b[43m.\u001b[49m\u001b[43m_context\u001b[49m\u001b[43m.\u001b[49m\u001b[43mrun\u001b[49m\u001b[43m(\u001b[49m\u001b[38;5;28;43mself\u001b[39;49m\u001b[43m.\u001b[49m\u001b[43m_callback\u001b[49m\u001b[43m,\u001b[49m\u001b[43m \u001b[49m\u001b[43m*\u001b[49m\u001b[38;5;28;43mself\u001b[39;49m\u001b[43m.\u001b[49m\u001b[43m_args\u001b[49m\u001b[43m)\u001b[49m\n\u001b[32m     89\u001b[39m     \u001b[38;5;28;01mexcept\u001b[39;00m (\u001b[38;5;167;01mSystemExit\u001b[39;00m, \u001b[38;5;167;01mKeyboardInterrupt\u001b[39;00m):\n\u001b[32m     90\u001b[39m         \u001b[38;5;28;01mraise\u001b[39;00m\n",
      "\u001b[36mFile \u001b[39m\u001b[32m~/.local/share/uv/python/cpython-3.12.11-macos-aarch64-none/lib/python3.12/asyncio/tasks.py:388\u001b[39m, in \u001b[36mTask.__wakeup\u001b[39m\u001b[34m(self, future)\u001b[39m\n\u001b[32m    385\u001b[39m     future.result()\n\u001b[32m    386\u001b[39m \u001b[38;5;28;01mexcept\u001b[39;00m \u001b[38;5;167;01mBaseException\u001b[39;00m \u001b[38;5;28;01mas\u001b[39;00m exc:\n\u001b[32m    387\u001b[39m     \u001b[38;5;66;03m# This may also be a cancellation.\u001b[39;00m\n\u001b[32m--> \u001b[39m\u001b[32m388\u001b[39m     \u001b[38;5;28;43mself\u001b[39;49m\u001b[43m.\u001b[49m\u001b[43m__step\u001b[49m\u001b[43m(\u001b[49m\u001b[43mexc\u001b[49m\u001b[43m)\u001b[49m\n\u001b[32m    389\u001b[39m \u001b[38;5;28;01melse\u001b[39;00m:\n\u001b[32m    390\u001b[39m     \u001b[38;5;66;03m# Don't pass the value of `future.result()` explicitly,\u001b[39;00m\n\u001b[32m    391\u001b[39m     \u001b[38;5;66;03m# as `Future.__iter__` and `Future.__await__` don't need it.\u001b[39;00m\n\u001b[32m   (...)\u001b[39m\u001b[32m    394\u001b[39m     \u001b[38;5;66;03m# instead of `__next__()`, which is slower for futures\u001b[39;00m\n\u001b[32m    395\u001b[39m     \u001b[38;5;66;03m# that return non-generator iterators from their `__iter__`.\u001b[39;00m\n\u001b[32m    396\u001b[39m     \u001b[38;5;28mself\u001b[39m.__step()\n",
      "\u001b[36mFile \u001b[39m\u001b[32m~/.local/share/uv/python/cpython-3.12.11-macos-aarch64-none/lib/python3.12/asyncio/tasks.py:303\u001b[39m, in \u001b[36mTask.__step\u001b[39m\u001b[34m(self, exc)\u001b[39m\n\u001b[32m    301\u001b[39m _enter_task(\u001b[38;5;28mself\u001b[39m._loop, \u001b[38;5;28mself\u001b[39m)\n\u001b[32m    302\u001b[39m \u001b[38;5;28;01mtry\u001b[39;00m:\n\u001b[32m--> \u001b[39m\u001b[32m303\u001b[39m     \u001b[38;5;28;43mself\u001b[39;49m\u001b[43m.\u001b[49m\u001b[43m__step_run_and_handle_result\u001b[49m\u001b[43m(\u001b[49m\u001b[43mexc\u001b[49m\u001b[43m)\u001b[49m\n\u001b[32m    304\u001b[39m \u001b[38;5;28;01mfinally\u001b[39;00m:\n\u001b[32m    305\u001b[39m     _leave_task(\u001b[38;5;28mself\u001b[39m._loop, \u001b[38;5;28mself\u001b[39m)\n",
      "\u001b[36mFile \u001b[39m\u001b[32m~/.local/share/uv/python/cpython-3.12.11-macos-aarch64-none/lib/python3.12/asyncio/tasks.py:316\u001b[39m, in \u001b[36mTask.__step_run_and_handle_result\u001b[39m\u001b[34m(***failed resolving arguments***)\u001b[39m\n\u001b[32m    314\u001b[39m         result = coro.send(\u001b[38;5;28;01mNone\u001b[39;00m)\n\u001b[32m    315\u001b[39m     \u001b[38;5;28;01melse\u001b[39;00m:\n\u001b[32m--> \u001b[39m\u001b[32m316\u001b[39m         result = \u001b[43mcoro\u001b[49m\u001b[43m.\u001b[49m\u001b[43mthrow\u001b[49m\u001b[43m(\u001b[49m\u001b[43mexc\u001b[49m\u001b[43m)\u001b[49m\n\u001b[32m    317\u001b[39m \u001b[38;5;28;01mexcept\u001b[39;00m \u001b[38;5;167;01mStopIteration\u001b[39;00m \u001b[38;5;28;01mas\u001b[39;00m exc:\n\u001b[32m    318\u001b[39m     \u001b[38;5;28;01mif\u001b[39;00m \u001b[38;5;28mself\u001b[39m._must_cancel:\n\u001b[32m    319\u001b[39m         \u001b[38;5;66;03m# Task is cancelled right before coro stops.\u001b[39;00m\n",
      "\u001b[36mFile \u001b[39m\u001b[32m~/workspace/collinear/.venv/lib/python3.12/site-packages/collinear/simulate/runner.py:253\u001b[39m, in \u001b[36mSimulationRunner.run_async\u001b[39m\u001b[34m(self, config, k, num_exchanges, batch_delay, steer_temperature, steer_max_tokens, steer_seed, mix_traits, progress, max_concurrency)\u001b[39m\n\u001b[32m    251\u001b[39m total_queries = \u001b[38;5;28mlen\u001b[39m(samples) * num_exchanges\n\u001b[32m    252\u001b[39m \u001b[38;5;28;01mwith\u001b[39;00m \u001b[38;5;28mself\u001b[39m._progress_tracking(enabled=progress, total=total_queries):\n\u001b[32m--> \u001b[39m\u001b[32m253\u001b[39m     \u001b[38;5;28;01mreturn\u001b[39;00m \u001b[38;5;28;01mawait\u001b[39;00m \u001b[38;5;28mself\u001b[39m._execute_samples(\n\u001b[32m    254\u001b[39m         samples, num_exchanges, batch_delay, max_concurrency\n\u001b[32m    255\u001b[39m     )\n",
      "\u001b[36mFile \u001b[39m\u001b[32m~/workspace/collinear/.venv/lib/python3.12/site-packages/collinear/simulate/runner.py:415\u001b[39m, in \u001b[36mSimulationRunner._execute_samples\u001b[39m\u001b[34m(self, samples, num_exchanges, batch_delay, max_concurrency)\u001b[39m\n\u001b[32m    412\u001b[39m             \u001b[38;5;28mself\u001b[39m.logger.info(\u001b[33mf\u001b[39m\u001b[33m\"\u001b[39m\u001b[33mCompleted simulation \u001b[39m\u001b[38;5;132;01m{\u001b[39;00mi\u001b[38;5;250m \u001b[39m+\u001b[38;5;250m \u001b[39m\u001b[32m1\u001b[39m\u001b[38;5;132;01m}\u001b[39;00m\u001b[33m/\u001b[39m\u001b[38;5;132;01m{\u001b[39;00m\u001b[38;5;28mlen\u001b[39m(samples)\u001b[38;5;132;01m}\u001b[39;00m\u001b[33m\"\u001b[39m)\n\u001b[32m    413\u001b[39m             \u001b[38;5;28;01mreturn\u001b[39;00m result\n\u001b[32m--> \u001b[39m\u001b[32m415\u001b[39m results = \u001b[38;5;28;01mawait\u001b[39;00m asyncio.gather(*(run_one(i, combo) \u001b[38;5;28;01mfor\u001b[39;00m i, combo \u001b[38;5;129;01min\u001b[39;00m \u001b[38;5;28menumerate\u001b[39m(samples)))\n\u001b[32m    416\u001b[39m \u001b[38;5;28;01mreturn\u001b[39;00m [result \u001b[38;5;28;01mfor\u001b[39;00m result \u001b[38;5;129;01min\u001b[39;00m results \u001b[38;5;28;01mif\u001b[39;00m result \u001b[38;5;129;01mis\u001b[39;00m \u001b[38;5;129;01mnot\u001b[39;00m \u001b[38;5;28;01mNone\u001b[39;00m]\n",
      "\u001b[36mFile \u001b[39m\u001b[32m~/.local/share/uv/python/cpython-3.12.11-macos-aarch64-none/lib/python3.12/asyncio/tasks.py:385\u001b[39m, in \u001b[36mTask.__wakeup\u001b[39m\u001b[34m(self, future)\u001b[39m\n\u001b[32m    383\u001b[39m \u001b[38;5;28;01mdef\u001b[39;00m\u001b[38;5;250m \u001b[39m\u001b[34m__wakeup\u001b[39m(\u001b[38;5;28mself\u001b[39m, future):\n\u001b[32m    384\u001b[39m     \u001b[38;5;28;01mtry\u001b[39;00m:\n\u001b[32m--> \u001b[39m\u001b[32m385\u001b[39m         \u001b[43mfuture\u001b[49m\u001b[43m.\u001b[49m\u001b[43mresult\u001b[49m\u001b[43m(\u001b[49m\u001b[43m)\u001b[49m\n\u001b[32m    386\u001b[39m     \u001b[38;5;28;01mexcept\u001b[39;00m \u001b[38;5;167;01mBaseException\u001b[39;00m \u001b[38;5;28;01mas\u001b[39;00m exc:\n\u001b[32m    387\u001b[39m         \u001b[38;5;66;03m# This may also be a cancellation.\u001b[39;00m\n\u001b[32m    388\u001b[39m         \u001b[38;5;28mself\u001b[39m.__step(exc)\n",
      "\u001b[36mFile \u001b[39m\u001b[32m~/workspace/collinear/.venv/lib/python3.12/site-packages/nest_asyncio.py:30\u001b[39m, in \u001b[36m_patch_asyncio.<locals>.run\u001b[39m\u001b[34m(main, debug)\u001b[39m\n\u001b[32m     28\u001b[39m task = asyncio.ensure_future(main)\n\u001b[32m     29\u001b[39m \u001b[38;5;28;01mtry\u001b[39;00m:\n\u001b[32m---> \u001b[39m\u001b[32m30\u001b[39m     \u001b[38;5;28;01mreturn\u001b[39;00m \u001b[43mloop\u001b[49m\u001b[43m.\u001b[49m\u001b[43mrun_until_complete\u001b[49m\u001b[43m(\u001b[49m\u001b[43mtask\u001b[49m\u001b[43m)\u001b[49m\n\u001b[32m     31\u001b[39m \u001b[38;5;28;01mfinally\u001b[39;00m:\n\u001b[32m     32\u001b[39m     \u001b[38;5;28;01mif\u001b[39;00m \u001b[38;5;129;01mnot\u001b[39;00m task.done():\n",
      "\u001b[36mFile \u001b[39m\u001b[32m~/workspace/collinear/.venv/lib/python3.12/site-packages/nest_asyncio.py:92\u001b[39m, in \u001b[36m_patch_loop.<locals>.run_until_complete\u001b[39m\u001b[34m(self, future)\u001b[39m\n\u001b[32m     90\u001b[39m     f._log_destroy_pending = \u001b[38;5;28;01mFalse\u001b[39;00m\n\u001b[32m     91\u001b[39m \u001b[38;5;28;01mwhile\u001b[39;00m \u001b[38;5;129;01mnot\u001b[39;00m f.done():\n\u001b[32m---> \u001b[39m\u001b[32m92\u001b[39m     \u001b[38;5;28;43mself\u001b[39;49m\u001b[43m.\u001b[49m\u001b[43m_run_once\u001b[49m\u001b[43m(\u001b[49m\u001b[43m)\u001b[49m\n\u001b[32m     93\u001b[39m     \u001b[38;5;28;01mif\u001b[39;00m \u001b[38;5;28mself\u001b[39m._stopping:\n\u001b[32m     94\u001b[39m         \u001b[38;5;28;01mbreak\u001b[39;00m\n",
      "\u001b[36mFile \u001b[39m\u001b[32m~/workspace/collinear/.venv/lib/python3.12/site-packages/nest_asyncio.py:133\u001b[39m, in \u001b[36m_patch_loop.<locals>._run_once\u001b[39m\u001b[34m(self)\u001b[39m\n\u001b[32m    130\u001b[39m curr_task = curr_tasks.pop(\u001b[38;5;28mself\u001b[39m, \u001b[38;5;28;01mNone\u001b[39;00m)\n\u001b[32m    132\u001b[39m \u001b[38;5;28;01mtry\u001b[39;00m:\n\u001b[32m--> \u001b[39m\u001b[32m133\u001b[39m     \u001b[43mhandle\u001b[49m\u001b[43m.\u001b[49m\u001b[43m_run\u001b[49m\u001b[43m(\u001b[49m\u001b[43m)\u001b[49m\n\u001b[32m    134\u001b[39m \u001b[38;5;28;01mfinally\u001b[39;00m:\n\u001b[32m    135\u001b[39m     \u001b[38;5;66;03m# restore the current task\u001b[39;00m\n\u001b[32m    136\u001b[39m     \u001b[38;5;28;01mif\u001b[39;00m curr_task \u001b[38;5;129;01mis\u001b[39;00m \u001b[38;5;129;01mnot\u001b[39;00m \u001b[38;5;28;01mNone\u001b[39;00m:\n",
      "\u001b[36mFile \u001b[39m\u001b[32m~/.local/share/uv/python/cpython-3.12.11-macos-aarch64-none/lib/python3.12/asyncio/events.py:88\u001b[39m, in \u001b[36mHandle._run\u001b[39m\u001b[34m(self)\u001b[39m\n\u001b[32m     86\u001b[39m \u001b[38;5;28;01mdef\u001b[39;00m\u001b[38;5;250m \u001b[39m\u001b[34m_run\u001b[39m(\u001b[38;5;28mself\u001b[39m):\n\u001b[32m     87\u001b[39m     \u001b[38;5;28;01mtry\u001b[39;00m:\n\u001b[32m---> \u001b[39m\u001b[32m88\u001b[39m         \u001b[38;5;28;43mself\u001b[39;49m\u001b[43m.\u001b[49m\u001b[43m_context\u001b[49m\u001b[43m.\u001b[49m\u001b[43mrun\u001b[49m\u001b[43m(\u001b[49m\u001b[38;5;28;43mself\u001b[39;49m\u001b[43m.\u001b[49m\u001b[43m_callback\u001b[49m\u001b[43m,\u001b[49m\u001b[43m \u001b[49m\u001b[43m*\u001b[49m\u001b[38;5;28;43mself\u001b[39;49m\u001b[43m.\u001b[49m\u001b[43m_args\u001b[49m\u001b[43m)\u001b[49m\n\u001b[32m     89\u001b[39m     \u001b[38;5;28;01mexcept\u001b[39;00m (\u001b[38;5;167;01mSystemExit\u001b[39;00m, \u001b[38;5;167;01mKeyboardInterrupt\u001b[39;00m):\n\u001b[32m     90\u001b[39m         \u001b[38;5;28;01mraise\u001b[39;00m\n",
      "\u001b[36mFile \u001b[39m\u001b[32m~/.local/share/uv/python/cpython-3.12.11-macos-aarch64-none/lib/python3.12/asyncio/tasks.py:303\u001b[39m, in \u001b[36mTask.__step\u001b[39m\u001b[34m(self, exc)\u001b[39m\n\u001b[32m    301\u001b[39m _enter_task(\u001b[38;5;28mself\u001b[39m._loop, \u001b[38;5;28mself\u001b[39m)\n\u001b[32m    302\u001b[39m \u001b[38;5;28;01mtry\u001b[39;00m:\n\u001b[32m--> \u001b[39m\u001b[32m303\u001b[39m     \u001b[38;5;28;43mself\u001b[39;49m\u001b[43m.\u001b[49m\u001b[43m__step_run_and_handle_result\u001b[49m\u001b[43m(\u001b[49m\u001b[43mexc\u001b[49m\u001b[43m)\u001b[49m\n\u001b[32m    304\u001b[39m \u001b[38;5;28;01mfinally\u001b[39;00m:\n\u001b[32m    305\u001b[39m     _leave_task(\u001b[38;5;28mself\u001b[39m._loop, \u001b[38;5;28mself\u001b[39m)\n",
      "\u001b[36mFile \u001b[39m\u001b[32m~/.local/share/uv/python/cpython-3.12.11-macos-aarch64-none/lib/python3.12/asyncio/tasks.py:314\u001b[39m, in \u001b[36mTask.__step_run_and_handle_result\u001b[39m\u001b[34m(***failed resolving arguments***)\u001b[39m\n\u001b[32m    310\u001b[39m \u001b[38;5;28;01mtry\u001b[39;00m:\n\u001b[32m    311\u001b[39m     \u001b[38;5;28;01mif\u001b[39;00m exc \u001b[38;5;129;01mis\u001b[39;00m \u001b[38;5;28;01mNone\u001b[39;00m:\n\u001b[32m    312\u001b[39m         \u001b[38;5;66;03m# We use the `send` method directly, because coroutines\u001b[39;00m\n\u001b[32m    313\u001b[39m         \u001b[38;5;66;03m# don't have `__iter__` and `__next__` methods.\u001b[39;00m\n\u001b[32m--> \u001b[39m\u001b[32m314\u001b[39m         result = \u001b[43mcoro\u001b[49m\u001b[43m.\u001b[49m\u001b[43msend\u001b[49m\u001b[43m(\u001b[49m\u001b[38;5;28;43;01mNone\u001b[39;49;00m\u001b[43m)\u001b[49m\n\u001b[32m    315\u001b[39m     \u001b[38;5;28;01melse\u001b[39;00m:\n\u001b[32m    316\u001b[39m         result = coro.throw(exc)\n",
      "\u001b[36mFile \u001b[39m\u001b[32m~/workspace/collinear/.venv/lib/python3.12/site-packages/collinear/simulate/runner.py:389\u001b[39m, in \u001b[36mSimulationRunner._execute_samples.<locals>.run_one\u001b[39m\u001b[34m(i, combo)\u001b[39m\n\u001b[32m    387\u001b[39m \u001b[38;5;28;01mtry\u001b[39;00m:\n\u001b[32m    388\u001b[39m     \u001b[38;5;28mself\u001b[39m.logger.info(\u001b[33m\"\u001b[39m\u001b[33m=\u001b[39m\u001b[33m\"\u001b[39m * \u001b[32m40\u001b[39m)\n\u001b[32m--> \u001b[39m\u001b[32m389\u001b[39m     conversation, final_response = \u001b[38;5;28;01mawait\u001b[39;00m \u001b[38;5;28mself\u001b[39m._build_conversation(\n\u001b[32m    390\u001b[39m         combo, num_exchanges\n\u001b[32m    391\u001b[39m     )\n\u001b[32m    392\u001b[39m \u001b[38;5;28;01mexcept\u001b[39;00m SimulationRunner.BuildConversationError \u001b[38;5;28;01mas\u001b[39;00m e:\n\u001b[32m    393\u001b[39m     remaining = \u001b[38;5;28mmax\u001b[39m(\u001b[32m0\u001b[39m, num_exchanges - e.completed_user_turns)\n",
      "\u001b[36mFile \u001b[39m\u001b[32m~/workspace/collinear/.venv/lib/python3.12/site-packages/collinear/simulate/runner.py:841\u001b[39m, in \u001b[36mSimulationRunner._build_conversation\u001b[39m\u001b[34m(self, combo, num_exchanges)\u001b[39m\n\u001b[32m    839\u001b[39m \u001b[38;5;28;01mif\u001b[39;00m is_user_turn:\n\u001b[32m    840\u001b[39m     \u001b[38;5;28;01mtry\u001b[39;00m:\n\u001b[32m--> \u001b[39m\u001b[32m841\u001b[39m         response = \u001b[38;5;28;01mawait\u001b[39;00m \u001b[38;5;28mself\u001b[39m._generate_turn(combo, conversation, role=role)\n\u001b[32m    842\u001b[39m     \u001b[38;5;28;01mfinally\u001b[39;00m:\n\u001b[32m    843\u001b[39m         completed_user_turns += \u001b[32m1\u001b[39m\n",
      "\u001b[36mFile \u001b[39m\u001b[32m~/workspace/collinear/.venv/lib/python3.12/site-packages/collinear/simulate/runner.py:461\u001b[39m, in \u001b[36mSimulationRunner._generate_turn\u001b[39m\u001b[34m(self, combo, conversation, role)\u001b[39m\n\u001b[32m    459\u001b[39m     trait = \u001b[38;5;28mnext\u001b[39m(\u001b[38;5;28miter\u001b[39m(combo.traits))\n\u001b[32m    460\u001b[39m     intensity = \u001b[38;5;28mnext\u001b[39m(\u001b[38;5;28miter\u001b[39m(combo.traits.values()))\n\u001b[32m--> \u001b[39m\u001b[32m461\u001b[39m     response = \u001b[38;5;28;01mawait\u001b[39;00m \u001b[38;5;28mself\u001b[39m._call_collinear_steer_api(\n\u001b[32m    462\u001b[39m         trait=trait,\n\u001b[32m    463\u001b[39m         intensity=intensity,\n\u001b[32m    464\u001b[39m         combo=combo,\n\u001b[32m    465\u001b[39m         conversation=conversation,\n\u001b[32m    466\u001b[39m     )\n\u001b[32m    467\u001b[39m \u001b[38;5;28;01melse\u001b[39;00m:\n\u001b[32m    468\u001b[39m     response = \u001b[38;5;28;01mawait\u001b[39;00m \u001b[38;5;28mself\u001b[39m._call_collinear_steer_api_trait_dict(\n\u001b[32m    469\u001b[39m         trait_dict={k: \u001b[38;5;28mint\u001b[39m(v) \u001b[38;5;28;01mfor\u001b[39;00m k, v \u001b[38;5;129;01min\u001b[39;00m combo.traits.items()},\n\u001b[32m    470\u001b[39m         combo=combo,\n\u001b[32m    471\u001b[39m         conversation=conversation,\n\u001b[32m    472\u001b[39m     )\n",
      "\u001b[36mFile \u001b[39m\u001b[32m~/workspace/collinear/.venv/lib/python3.12/site-packages/collinear/simulate/runner.py:770\u001b[39m, in \u001b[36mSimulationRunner._call_collinear_steer_api\u001b[39m\u001b[34m(self, trait, intensity, combo, conversation)\u001b[39m\n\u001b[32m    762\u001b[39m \u001b[38;5;28;01masync\u001b[39;00m \u001b[38;5;28;01mdef\u001b[39;00m\u001b[38;5;250m \u001b[39m\u001b[34m_call_collinear_steer_api\u001b[39m(\n\u001b[32m    763\u001b[39m     \u001b[38;5;28mself\u001b[39m,\n\u001b[32m    764\u001b[39m     *,\n\u001b[32m   (...)\u001b[39m\u001b[32m    768\u001b[39m     conversation: \u001b[38;5;28mlist\u001b[39m[ChatCompletionMessageParam] | \u001b[38;5;28;01mNone\u001b[39;00m = \u001b[38;5;28;01mNone\u001b[39;00m,\n\u001b[32m    769\u001b[39m ) -> \u001b[38;5;28mstr\u001b[39m:\n\u001b[32m--> \u001b[39m\u001b[32m770\u001b[39m     \u001b[38;5;28;01mreturn\u001b[39;00m \u001b[38;5;28;01mawait\u001b[39;00m \u001b[38;5;28mself\u001b[39m._call_collinear_steer_api_trait_dict(\n\u001b[32m    771\u001b[39m         trait_dict={trait: \u001b[38;5;28mint\u001b[39m(intensity)},\n\u001b[32m    772\u001b[39m         combo=combo,\n\u001b[32m    773\u001b[39m         conversation=conversation,\n\u001b[32m    774\u001b[39m     )\n",
      "\u001b[36mFile \u001b[39m\u001b[32m~/workspace/collinear/.venv/lib/python3.12/site-packages/collinear/simulate/runner.py:790\u001b[39m, in \u001b[36mSimulationRunner._call_collinear_steer_api_trait_dict\u001b[39m\u001b[34m(self, trait_dict, combo, conversation)\u001b[39m\n\u001b[32m    784\u001b[39m payload: \u001b[38;5;28mdict\u001b[39m[\u001b[38;5;28mstr\u001b[39m, \u001b[38;5;28mobject\u001b[39m] = \u001b[38;5;28mself\u001b[39m._build_steer_payload(\n\u001b[32m    785\u001b[39m     trait_dict=trait_dict,\n\u001b[32m    786\u001b[39m     conversation=conv,\n\u001b[32m    787\u001b[39m     combo=combo,\n\u001b[32m    788\u001b[39m )\n\u001b[32m    789\u001b[39m headers = \u001b[38;5;28mself\u001b[39m._steer_headers()\n\u001b[32m--> \u001b[39m\u001b[32m790\u001b[39m responses = \u001b[38;5;28;01mawait\u001b[39;00m \u001b[38;5;28mself\u001b[39m._call_batch_endpoint([payload], headers=headers)\n\u001b[32m    792\u001b[39m \u001b[38;5;28;01mif\u001b[39;00m \u001b[38;5;129;01mnot\u001b[39;00m responses:\n\u001b[32m    793\u001b[39m     \u001b[38;5;28;01mraise\u001b[39;00m SimulationRunner.EmptySteerResponseError(\u001b[33m\"\u001b[39m\u001b[33mSteer API returned no responses\u001b[39m\u001b[33m\"\u001b[39m)\n",
      "\u001b[36mFile \u001b[39m\u001b[32m~/workspace/collinear/.venv/lib/python3.12/site-packages/collinear/simulate/runner.py:809\u001b[39m, in \u001b[36mSimulationRunner._call_batch_endpoint\u001b[39m\u001b[34m(self, payloads, headers)\u001b[39m\n\u001b[32m    807\u001b[39m     \u001b[38;5;28;01mreturn\u001b[39;00m []\n\u001b[32m    808\u001b[39m url = \u001b[38;5;28mself\u001b[39m._steer_batch_url()\n\u001b[32m--> \u001b[39m\u001b[32m809\u001b[39m resp, err = \u001b[38;5;28;01mawait\u001b[39;00m \u001b[38;5;28mself\u001b[39m._request_steer(url, headers, payloads)\n\u001b[32m    810\u001b[39m \u001b[38;5;28;01mif\u001b[39;00m err \u001b[38;5;129;01mis\u001b[39;00m \u001b[38;5;129;01mnot\u001b[39;00m \u001b[38;5;28;01mNone\u001b[39;00m:\n\u001b[32m    811\u001b[39m     \u001b[38;5;28;01mraise\u001b[39;00m \u001b[38;5;167;01mRuntimeError\u001b[39;00m(err)\n",
      "\u001b[36mFile \u001b[39m\u001b[32m~/workspace/collinear/.venv/lib/python3.12/site-packages/collinear/simulate/runner.py:704\u001b[39m, in \u001b[36mSimulationRunner._request_steer\u001b[39m\u001b[34m(self, url, headers, payload)\u001b[39m\n\u001b[32m    700\u001b[39m \u001b[38;5;28;01masync\u001b[39;00m \u001b[38;5;28;01mdef\u001b[39;00m\u001b[38;5;250m \u001b[39m\u001b[34m_request_steer\u001b[39m(\n\u001b[32m    701\u001b[39m     \u001b[38;5;28mself\u001b[39m, url: \u001b[38;5;28mstr\u001b[39m, headers: \u001b[38;5;28mdict\u001b[39m[\u001b[38;5;28mstr\u001b[39m, \u001b[38;5;28mstr\u001b[39m], payload: \u001b[38;5;28mobject\u001b[39m\n\u001b[32m    702\u001b[39m ) -> \u001b[38;5;28mtuple\u001b[39m[httpx.Response | \u001b[38;5;28;01mNone\u001b[39;00m, \u001b[38;5;28mstr\u001b[39m | \u001b[38;5;28;01mNone\u001b[39;00m]:\n\u001b[32m    703\u001b[39m     \u001b[38;5;28;01mtry\u001b[39;00m:\n\u001b[32m--> \u001b[39m\u001b[32m704\u001b[39m         \u001b[38;5;28;01masync\u001b[39;00m \u001b[38;5;28;01mwith\u001b[39;00m \u001b[43mhttpx\u001b[49m\u001b[43m.\u001b[49m\u001b[43mAsyncClient\u001b[49m\u001b[43m(\u001b[49m\u001b[43mtimeout\u001b[49m\u001b[43m=\u001b[49m\u001b[38;5;28;43mself\u001b[39;49m\u001b[43m.\u001b[49m\u001b[43mtimeout\u001b[49m\u001b[43m)\u001b[49m \u001b[38;5;28;01mas\u001b[39;00m client:\n\u001b[32m    705\u001b[39m             \u001b[38;5;28mself\u001b[39m.logger.debug(\u001b[33m\"\u001b[39m\u001b[33mPOST \u001b[39m\u001b[38;5;132;01m%s\u001b[39;00m\u001b[33m (API-Key present=\u001b[39m\u001b[38;5;132;01m%s\u001b[39;00m\u001b[33m)\u001b[39m\u001b[33m\"\u001b[39m, url, \u001b[33m\"\u001b[39m\u001b[33mAPI-Key\u001b[39m\u001b[33m\"\u001b[39m \u001b[38;5;129;01min\u001b[39;00m headers)\n\u001b[32m    706\u001b[39m             resp = \u001b[38;5;28;01mawait\u001b[39;00m client.post(url, headers=headers, json=payload)\n",
      "\u001b[36mFile \u001b[39m\u001b[32m~/workspace/collinear/.venv/lib/python3.12/site-packages/httpx/_client.py:1442\u001b[39m, in \u001b[36mAsyncClient.__init__\u001b[39m\u001b[34m(self, auth, params, headers, cookies, verify, cert, http1, http2, proxy, proxies, mounts, timeout, follow_redirects, limits, max_redirects, event_hooks, base_url, transport, app, trust_env, default_encoding)\u001b[39m\n\u001b[32m   1439\u001b[39m allow_env_proxies = trust_env \u001b[38;5;129;01mand\u001b[39;00m app \u001b[38;5;129;01mis\u001b[39;00m \u001b[38;5;28;01mNone\u001b[39;00m \u001b[38;5;129;01mand\u001b[39;00m transport \u001b[38;5;129;01mis\u001b[39;00m \u001b[38;5;28;01mNone\u001b[39;00m\n\u001b[32m   1440\u001b[39m proxy_map = \u001b[38;5;28mself\u001b[39m._get_proxy_map(proxies \u001b[38;5;129;01mor\u001b[39;00m proxy, allow_env_proxies)\n\u001b[32m-> \u001b[39m\u001b[32m1442\u001b[39m \u001b[38;5;28mself\u001b[39m._transport = \u001b[38;5;28;43mself\u001b[39;49m\u001b[43m.\u001b[49m\u001b[43m_init_transport\u001b[49m\u001b[43m(\u001b[49m\n\u001b[32m   1443\u001b[39m \u001b[43m    \u001b[49m\u001b[43mverify\u001b[49m\u001b[43m=\u001b[49m\u001b[43mverify\u001b[49m\u001b[43m,\u001b[49m\n\u001b[32m   1444\u001b[39m \u001b[43m    \u001b[49m\u001b[43mcert\u001b[49m\u001b[43m=\u001b[49m\u001b[43mcert\u001b[49m\u001b[43m,\u001b[49m\n\u001b[32m   1445\u001b[39m \u001b[43m    \u001b[49m\u001b[43mhttp1\u001b[49m\u001b[43m=\u001b[49m\u001b[43mhttp1\u001b[49m\u001b[43m,\u001b[49m\n\u001b[32m   1446\u001b[39m \u001b[43m    \u001b[49m\u001b[43mhttp2\u001b[49m\u001b[43m=\u001b[49m\u001b[43mhttp2\u001b[49m\u001b[43m,\u001b[49m\n\u001b[32m   1447\u001b[39m \u001b[43m    \u001b[49m\u001b[43mlimits\u001b[49m\u001b[43m=\u001b[49m\u001b[43mlimits\u001b[49m\u001b[43m,\u001b[49m\n\u001b[32m   1448\u001b[39m \u001b[43m    \u001b[49m\u001b[43mtransport\u001b[49m\u001b[43m=\u001b[49m\u001b[43mtransport\u001b[49m\u001b[43m,\u001b[49m\n\u001b[32m   1449\u001b[39m \u001b[43m    \u001b[49m\u001b[43mapp\u001b[49m\u001b[43m=\u001b[49m\u001b[43mapp\u001b[49m\u001b[43m,\u001b[49m\n\u001b[32m   1450\u001b[39m \u001b[43m    \u001b[49m\u001b[43mtrust_env\u001b[49m\u001b[43m=\u001b[49m\u001b[43mtrust_env\u001b[49m\u001b[43m,\u001b[49m\n\u001b[32m   1451\u001b[39m \u001b[43m\u001b[49m\u001b[43m)\u001b[49m\n\u001b[32m   1453\u001b[39m \u001b[38;5;28mself\u001b[39m._mounts: \u001b[38;5;28mdict\u001b[39m[URLPattern, AsyncBaseTransport | \u001b[38;5;28;01mNone\u001b[39;00m] = {\n\u001b[32m   1454\u001b[39m     URLPattern(key): \u001b[38;5;28;01mNone\u001b[39;00m\n\u001b[32m   1455\u001b[39m     \u001b[38;5;28;01mif\u001b[39;00m proxy \u001b[38;5;129;01mis\u001b[39;00m \u001b[38;5;28;01mNone\u001b[39;00m\n\u001b[32m   (...)\u001b[39m\u001b[32m   1465\u001b[39m     \u001b[38;5;28;01mfor\u001b[39;00m key, proxy \u001b[38;5;129;01min\u001b[39;00m proxy_map.items()\n\u001b[32m   1466\u001b[39m }\n\u001b[32m   1467\u001b[39m \u001b[38;5;28;01mif\u001b[39;00m mounts \u001b[38;5;129;01mis\u001b[39;00m \u001b[38;5;129;01mnot\u001b[39;00m \u001b[38;5;28;01mNone\u001b[39;00m:\n",
      "\u001b[36mFile \u001b[39m\u001b[32m~/workspace/collinear/.venv/lib/python3.12/site-packages/httpx/_client.py:1490\u001b[39m, in \u001b[36mAsyncClient._init_transport\u001b[39m\u001b[34m(self, verify, cert, http1, http2, limits, transport, app, trust_env)\u001b[39m\n\u001b[32m   1487\u001b[39m \u001b[38;5;28;01mif\u001b[39;00m app \u001b[38;5;129;01mis\u001b[39;00m \u001b[38;5;129;01mnot\u001b[39;00m \u001b[38;5;28;01mNone\u001b[39;00m:\n\u001b[32m   1488\u001b[39m     \u001b[38;5;28;01mreturn\u001b[39;00m ASGITransport(app=app)\n\u001b[32m-> \u001b[39m\u001b[32m1490\u001b[39m \u001b[38;5;28;01mreturn\u001b[39;00m \u001b[43mAsyncHTTPTransport\u001b[49m\u001b[43m(\u001b[49m\n\u001b[32m   1491\u001b[39m \u001b[43m    \u001b[49m\u001b[43mverify\u001b[49m\u001b[43m=\u001b[49m\u001b[43mverify\u001b[49m\u001b[43m,\u001b[49m\n\u001b[32m   1492\u001b[39m \u001b[43m    \u001b[49m\u001b[43mcert\u001b[49m\u001b[43m=\u001b[49m\u001b[43mcert\u001b[49m\u001b[43m,\u001b[49m\n\u001b[32m   1493\u001b[39m \u001b[43m    \u001b[49m\u001b[43mhttp1\u001b[49m\u001b[43m=\u001b[49m\u001b[43mhttp1\u001b[49m\u001b[43m,\u001b[49m\n\u001b[32m   1494\u001b[39m \u001b[43m    \u001b[49m\u001b[43mhttp2\u001b[49m\u001b[43m=\u001b[49m\u001b[43mhttp2\u001b[49m\u001b[43m,\u001b[49m\n\u001b[32m   1495\u001b[39m \u001b[43m    \u001b[49m\u001b[43mlimits\u001b[49m\u001b[43m=\u001b[49m\u001b[43mlimits\u001b[49m\u001b[43m,\u001b[49m\n\u001b[32m   1496\u001b[39m \u001b[43m    \u001b[49m\u001b[43mtrust_env\u001b[49m\u001b[43m=\u001b[49m\u001b[43mtrust_env\u001b[49m\u001b[43m,\u001b[49m\n\u001b[32m   1497\u001b[39m \u001b[43m\u001b[49m\u001b[43m)\u001b[49m\n",
      "\u001b[36mFile \u001b[39m\u001b[32m~/workspace/collinear/.venv/lib/python3.12/site-packages/httpx/_transports/default.py:280\u001b[39m, in \u001b[36mAsyncHTTPTransport.__init__\u001b[39m\u001b[34m(self, verify, cert, http1, http2, limits, trust_env, proxy, uds, local_address, retries, socket_options)\u001b[39m\n\u001b[32m    266\u001b[39m \u001b[38;5;28;01mdef\u001b[39;00m\u001b[38;5;250m \u001b[39m\u001b[34m__init__\u001b[39m(\n\u001b[32m    267\u001b[39m     \u001b[38;5;28mself\u001b[39m,\n\u001b[32m    268\u001b[39m     verify: VerifyTypes = \u001b[38;5;28;01mTrue\u001b[39;00m,\n\u001b[32m   (...)\u001b[39m\u001b[32m    278\u001b[39m     socket_options: typing.Iterable[SOCKET_OPTION] | \u001b[38;5;28;01mNone\u001b[39;00m = \u001b[38;5;28;01mNone\u001b[39;00m,\n\u001b[32m    279\u001b[39m ) -> \u001b[38;5;28;01mNone\u001b[39;00m:\n\u001b[32m--> \u001b[39m\u001b[32m280\u001b[39m     ssl_context = \u001b[43mcreate_ssl_context\u001b[49m\u001b[43m(\u001b[49m\u001b[43mverify\u001b[49m\u001b[43m=\u001b[49m\u001b[43mverify\u001b[49m\u001b[43m,\u001b[49m\u001b[43m \u001b[49m\u001b[43mcert\u001b[49m\u001b[43m=\u001b[49m\u001b[43mcert\u001b[49m\u001b[43m,\u001b[49m\u001b[43m \u001b[49m\u001b[43mtrust_env\u001b[49m\u001b[43m=\u001b[49m\u001b[43mtrust_env\u001b[49m\u001b[43m)\u001b[49m\n\u001b[32m    281\u001b[39m     proxy = Proxy(url=proxy) \u001b[38;5;28;01mif\u001b[39;00m \u001b[38;5;28misinstance\u001b[39m(proxy, (\u001b[38;5;28mstr\u001b[39m, URL)) \u001b[38;5;28;01melse\u001b[39;00m proxy\n\u001b[32m    283\u001b[39m     \u001b[38;5;28;01mif\u001b[39;00m proxy \u001b[38;5;129;01mis\u001b[39;00m \u001b[38;5;28;01mNone\u001b[39;00m:\n",
      "\u001b[36mFile \u001b[39m\u001b[32m~/workspace/collinear/.venv/lib/python3.12/site-packages/httpx/_config.py:55\u001b[39m, in \u001b[36mcreate_ssl_context\u001b[39m\u001b[34m(cert, verify, trust_env, http2)\u001b[39m\n\u001b[32m     49\u001b[39m \u001b[38;5;28;01mdef\u001b[39;00m\u001b[38;5;250m \u001b[39m\u001b[34mcreate_ssl_context\u001b[39m(\n\u001b[32m     50\u001b[39m     cert: CertTypes | \u001b[38;5;28;01mNone\u001b[39;00m = \u001b[38;5;28;01mNone\u001b[39;00m,\n\u001b[32m     51\u001b[39m     verify: VerifyTypes = \u001b[38;5;28;01mTrue\u001b[39;00m,\n\u001b[32m     52\u001b[39m     trust_env: \u001b[38;5;28mbool\u001b[39m = \u001b[38;5;28;01mTrue\u001b[39;00m,\n\u001b[32m     53\u001b[39m     http2: \u001b[38;5;28mbool\u001b[39m = \u001b[38;5;28;01mFalse\u001b[39;00m,\n\u001b[32m     54\u001b[39m ) -> ssl.SSLContext:\n\u001b[32m---> \u001b[39m\u001b[32m55\u001b[39m     \u001b[38;5;28;01mreturn\u001b[39;00m \u001b[43mSSLConfig\u001b[49m\u001b[43m(\u001b[49m\n\u001b[32m     56\u001b[39m \u001b[43m        \u001b[49m\u001b[43mcert\u001b[49m\u001b[43m=\u001b[49m\u001b[43mcert\u001b[49m\u001b[43m,\u001b[49m\u001b[43m \u001b[49m\u001b[43mverify\u001b[49m\u001b[43m=\u001b[49m\u001b[43mverify\u001b[49m\u001b[43m,\u001b[49m\u001b[43m \u001b[49m\u001b[43mtrust_env\u001b[49m\u001b[43m=\u001b[49m\u001b[43mtrust_env\u001b[49m\u001b[43m,\u001b[49m\u001b[43m \u001b[49m\u001b[43mhttp2\u001b[49m\u001b[43m=\u001b[49m\u001b[43mhttp2\u001b[49m\n\u001b[32m     57\u001b[39m \u001b[43m    \u001b[49m\u001b[43m)\u001b[49m.ssl_context\n",
      "\u001b[36mFile \u001b[39m\u001b[32m~/workspace/collinear/.venv/lib/python3.12/site-packages/httpx/_config.py:79\u001b[39m, in \u001b[36mSSLConfig.__init__\u001b[39m\u001b[34m(self, cert, verify, trust_env, http2)\u001b[39m\n\u001b[32m     77\u001b[39m \u001b[38;5;28mself\u001b[39m.trust_env = trust_env\n\u001b[32m     78\u001b[39m \u001b[38;5;28mself\u001b[39m.http2 = http2\n\u001b[32m---> \u001b[39m\u001b[32m79\u001b[39m \u001b[38;5;28mself\u001b[39m.ssl_context = \u001b[38;5;28;43mself\u001b[39;49m\u001b[43m.\u001b[49m\u001b[43mload_ssl_context\u001b[49m\u001b[43m(\u001b[49m\u001b[43m)\u001b[49m\n",
      "\u001b[36mFile \u001b[39m\u001b[32m~/workspace/collinear/.venv/lib/python3.12/site-packages/httpx/_config.py:91\u001b[39m, in \u001b[36mSSLConfig.load_ssl_context\u001b[39m\u001b[34m(self)\u001b[39m\n\u001b[32m     82\u001b[39m logger.debug(\n\u001b[32m     83\u001b[39m     \u001b[33m\"\u001b[39m\u001b[33mload_ssl_context verify=\u001b[39m\u001b[38;5;132;01m%r\u001b[39;00m\u001b[33m cert=\u001b[39m\u001b[38;5;132;01m%r\u001b[39;00m\u001b[33m trust_env=\u001b[39m\u001b[38;5;132;01m%r\u001b[39;00m\u001b[33m http2=\u001b[39m\u001b[38;5;132;01m%r\u001b[39;00m\u001b[33m\"\u001b[39m,\n\u001b[32m     84\u001b[39m     \u001b[38;5;28mself\u001b[39m.verify,\n\u001b[32m   (...)\u001b[39m\u001b[32m     87\u001b[39m     \u001b[38;5;28mself\u001b[39m.http2,\n\u001b[32m     88\u001b[39m )\n\u001b[32m     90\u001b[39m \u001b[38;5;28;01mif\u001b[39;00m \u001b[38;5;28mself\u001b[39m.verify:\n\u001b[32m---> \u001b[39m\u001b[32m91\u001b[39m     \u001b[38;5;28;01mreturn\u001b[39;00m \u001b[38;5;28;43mself\u001b[39;49m\u001b[43m.\u001b[49m\u001b[43mload_ssl_context_verify\u001b[49m\u001b[43m(\u001b[49m\u001b[43m)\u001b[49m\n\u001b[32m     92\u001b[39m \u001b[38;5;28;01mreturn\u001b[39;00m \u001b[38;5;28mself\u001b[39m.load_ssl_context_no_verify()\n",
      "\u001b[36mFile \u001b[39m\u001b[32m~/workspace/collinear/.venv/lib/python3.12/site-packages/httpx/_config.py:149\u001b[39m, in \u001b[36mSSLConfig.load_ssl_context_verify\u001b[39m\u001b[34m(self)\u001b[39m\n\u001b[32m    147\u001b[39m     cafile = \u001b[38;5;28mstr\u001b[39m(ca_bundle_path)\n\u001b[32m    148\u001b[39m     logger.debug(\u001b[33m\"\u001b[39m\u001b[33mload_verify_locations cafile=\u001b[39m\u001b[38;5;132;01m%r\u001b[39;00m\u001b[33m\"\u001b[39m, cafile)\n\u001b[32m--> \u001b[39m\u001b[32m149\u001b[39m     \u001b[43mcontext\u001b[49m\u001b[43m.\u001b[49m\u001b[43mload_verify_locations\u001b[49m\u001b[43m(\u001b[49m\u001b[43mcafile\u001b[49m\u001b[43m=\u001b[49m\u001b[43mcafile\u001b[49m\u001b[43m)\u001b[49m\n\u001b[32m    150\u001b[39m \u001b[38;5;28;01melif\u001b[39;00m ca_bundle_path.is_dir():\n\u001b[32m    151\u001b[39m     capath = \u001b[38;5;28mstr\u001b[39m(ca_bundle_path)\n",
      "\u001b[31mKeyboardInterrupt\u001b[39m: "
     ]
    }
   ],
   "source": [
    "# Generate simulations\n",
    "\n",
    "simulations = client.simulate(\n",
    "    steer_config=STEER_CONFIG,\n",
    "    k=SIM_SAMPLES,\n",
    "    num_exchanges=SIM_EXCHANGES,\n",
    "    batch_delay=SIM_DELAY,\n",
    "    steer_temperature=SIM_STEER_TEMPERATURE,\n",
    "    steer_max_tokens=SIM_STEER_MAX_TOKENS,\n",
    "    mix_traits=SIM_MIX_TRAITS,\n",
    "    max_concurrency=SIM_MAX_CONCURRENCY,\n",
    ")\n",
    "\n",
    "results_dir = Path(RESULTS_DIR)\n",
    "results_dir.mkdir(parents=True, exist_ok=True)\n",
    "timestamp = datetime.strftime('%Y%m%d-%H%M%S')\n",
    "filename = '_'.join(part for part in METADATA_PARTS if part) + f\"_{timestamp}.jsonl\"\n",
    "dataset_path = results_dir / filename\n",
    "\n",
    "output_dir = Path()\n",
    "output_dir.mkdir(parents=True, exist_ok=True)\n",
    "dataset_path = output_dir / \"simulated_rl.jsonl\"\n",
    "with dataset_path.open('w', encoding='utf-8') as dataset_file:\n",
    "    for simulation in simulations:\n",
    "        dataset_row = make_dataset_row(runner, simulation)\n",
    "        dataset_file.write(json.dumps(dataset_row, ensure_ascii=False) + '\\n')\n",
    "print(f'Wrote dataset to: {dataset_path}')\n",
    "\n",
    "with dataset_path.open('w', encoding='utf-8') as f:\n",
    "    for i, x in enumerate(f):\n",
    "        print(\"=\"*8)\n",
    "        print(f\"Conversation {i+1}\")\n",
    "        print(\"=\"*8)\n",
    "        pprint(json.loads(x)[\"steering_persona\"])\n",
    "        print(json.loads(x)[\"conversation\"])\n",
    "        if json.loads(x)[\"last_response\"] ==  \"###STOP###\":\n",
    "            print(\"user: \", json.loads(x)[\"last_response\"])\n",
    "        else:\n",
    "            print(\"assistant: \", json.loads(x)[\"last_response\"])\n",
    "        print()\n"
   ]
  },
  {
   "cell_type": "markdown",
   "metadata": {
    "id": "JmcHKUAGUZoL"
   },
   "source": [
    "## Upload simulations as dataset and load judge model on Together\n",
    "\n",
    "Uploads the dataset to Together and starts a safety-score evaluation.\n"
   ]
  },
  {
   "cell_type": "code",
   "execution_count": null,
   "metadata": {
    "colab": {
     "base_uri": "https://localhost:8080/"
    },
    "executionInfo": {
     "elapsed": 1360,
     "status": "error",
     "timestamp": 1757560922662,
     "user": {
      "displayName": "Quinten Lisowe",
      "userId": "05399425339750097468"
     },
     "user_tz": 300
    },
    "id": "f66S96r3UYd5",
    "outputId": "9c26c699-08e9-43db-f052-60483efb80f8"
   },
   "outputs": [],
   "source": [
    "together_client = together.Together(api_key=CLIENT_ASSISTANT_MODEL_API_KEY)\n",
    "\n",
    "# Upload dataset\n",
    "uploaded_file = together_client.files.upload(file=str(dataset_path), purpose=TOGETHER_UPLOAD_PURPOSE)\n",
    "uploaded_file_id = uploaded_file.id if hasattr(uploaded_file, 'id') else uploaded_file['id']\n",
    "\n",
    "# Create evaluation\n",
    "evaluation_requestor = api_requestor.APIRequestor(client=together_client.client)\n",
    "evaluation_payload = {\n",
    "    'type': TOGETHER_EVAL_TYPE,\n",
    "    'parameters': {\n",
    "        'judge': {\n",
    "            'model': ASSESS_JUDGE_MODEL_NAME,\n",
    "            'model_source': TOGETHER_JUDGE_MODEL_SOURCE,\n",
    "            'system_template': JUDGE_SYSTEM_PROMPT,\n",
    "        },\n",
    "        'input_data_file_path': uploaded_file_id,\n",
    "        'model_to_evaluate': TOGETHER_MODEL_TO_EVALUATE,\n",
    "        'min_score': TOGETHER_MIN_SCORE,\n",
    "        'max_score': TOGETHER_MAX_SCORE,\n",
    "        'pass_threshold': TOGETHER_PASS_THRESHOLD,\n",
    "    },\n",
    "}\n",
    "evaluation_create_response, _, _ = evaluation_requestor.request(\n",
    "    options=TogetherRequest(method='POST', url='evaluation', params=evaluation_payload),\n",
    "    stream=False,\n",
    ")\n",
    "evaluation_data = getattr(evaluation_create_response, 'data', evaluation_create_response)\n",
    "workflow_id = evaluation_data.workflow_id if hasattr(evaluation_data, 'workflow_id') else evaluation_data['workflow_id']\n",
    "status_text = str(getattr(evaluation_data, 'status', 'pending')).lower()\n",
    "print(f'Started evaluation: {workflow_id} (status={status_text})')"
   ]
  },
  {
   "cell_type": "markdown",
   "metadata": {
    "id": "5M1TgiNpVseN"
   },
   "source": [
    "## Eval results and analysis\n",
    "\n",
    "Polls for completion, enriches results with personas, and prints a summary.\n"
   ]
  },
  {
   "cell_type": "code",
   "execution_count": null,
   "metadata": {
    "id": "DEmq7n61WBOS"
   },
   "outputs": [],
   "source": [
    "# Poll Together until complete. Download and print results\n",
    "\n",
    "deadline = time.time() + TOGETHER_POLL_TIMEOUT_SECONDS\n",
    "while time.time() < deadline:\n",
    "    evaluation_status = together_client.evaluation.status(workflow_id)\n",
    "    status_text = str(getattr(evaluation_status, 'status', 'pending')).lower()\n",
    "    print(f'Status: {status_text}')\n",
    "    if status_text.endswith(('completed', 'success', 'failed', 'error', 'user_error')):\n",
    "        results_obj = getattr(evaluation_status, 'results', None)\n",
    "        print(results_obj)\n",
    "        if isinstance(results_obj, dict) and results_obj.get('result_file_id'):\n",
    "            results_path = dataset_path.parent / f\"{RESULTS_FILENAME_PREFIX}{workflow_id}_results.jsonl\"\n",
    "            together_client.files.retrieve_content(results_obj['result_file_id'], output=str(results_path))\n",
    "            print(f'Downloaded results to: {results_path}')\n",
    "\n",
    "            # Enrich results in place with steering_persona from dataset\n",
    "            try:\n",
    "                persona_lookup = load_persona_lookup(dataset_path)\n",
    "                enrich_results_inplace(results_path, persona_lookup)\n",
    "                print('Enriched results with steering_persona.')\n",
    "            except Exception as error:\n",
    "                print(f'Note: could not enrich results with steering_persona: {error}')\n",
    "\n",
    "            _summarize_results(results_path)\n",
    "        break\n",
    "    time.sleep(TOGETHER_POLL_INTERVAL_SECONDS)\n",
    "else:\n",
    "    print('Timed out waiting for evaluation to complete.')\n"
   ]
  }
 ],
 "metadata": {
  "colab": {
   "provenance": []
  },
  "kernelspec": {
   "display_name": "collinear-synthetic",
   "language": "python",
   "name": "collinear-synthetic"
  },
  "language_info": {
   "codemirror_mode": {
    "name": "ipython",
    "version": 3
   },
   "file_extension": ".py",
   "mimetype": "text/x-python",
   "name": "python",
   "nbconvert_exporter": "python",
   "pygments_lexer": "ipython3",
   "version": "3.12.11"
  }
 },
 "nbformat": 4,
 "nbformat_minor": 4
}
