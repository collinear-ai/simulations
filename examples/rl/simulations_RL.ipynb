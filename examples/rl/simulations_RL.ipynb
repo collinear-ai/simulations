{
 "cells": [
  {
   "cell_type": "markdown",
   "metadata": {
    "id": "I-aat5zD6-on"
   },
   "source": [
    "## Install packages and set up imports"
   ]
  },
  {
   "cell_type": "code",
   "execution_count": null,
   "metadata": {},
   "outputs": [],
   "source": [
    "import json\n",
    "from pathlib import Path\n",
    "\n",
    "import nest_asyncio\n",
    "from collinear.client import Client\n",
    "\n",
    "# Necessary to run in a Jupyter notebook\n",
    "nest_asyncio.apply()\n",
    "import argparse\n",
    "from tau_bench.types import RunConfig\n",
    "from tau_bench.run import run\n",
    "from litellm import provider_list\n",
    "from tau_bench.envs.user import UserStrategy\n"
   ]
  },
  {
   "cell_type": "markdown",
   "metadata": {
    "id": "0XTQTO9b7Mej"
   },
   "source": [
    "## Load model, setup client"
   ]
  },
  {
   "cell_type": "code",
   "execution_count": null,
   "metadata": {
    "id": "xfrQeD_f75Gx"
   },
   "outputs": [],
   "source": [
    "# Config Variables (from configs/simulation_config.json and steering_config_*.json)\n",
    "\n",
    "CONFIG_DIR = Path('configs')\n",
    "SIMULATION_CONFIG_FILE = CONFIG_DIR / 'simulation_config.json'\n",
    "config_data = json.loads(SIMULATION_CONFIG_FILE.read_text())\n",
    "\n",
    "steering_config_value = config_data.get('steering_config_file') or 'steering_config_airline.json'\n",
    "steering_candidate = Path(steering_config_value)\n",
    "if not steering_candidate.is_absolute():\n",
    "    steering_candidate = CONFIG_DIR / steering_candidate.name\n",
    "STEERING_CONFIG_FILE = steering_candidate\n",
    "STEER_CONFIG = json.loads(STEERING_CONFIG_FILE.read_text())\n",
    "STEER_TASKS = list(STEER_CONFIG.get('tasks', []))\n",
    "\n",
    "# Client options\n",
    "client_settings = config_data.get('client', {}) or {}\n",
    "CLIENT_ASSISTANT_MODEL_URL = client_settings.get('assistant_model_url', 'https://api.openai.com/v1')\n",
    "CLIENT_ASSISTANT_MODEL_API_KEY = client_settings.get('assistant_model_api_key')\n",
    "CLIENT_ASSISTANT_MODEL_NAME = client_settings.get('assistant_model_name', 'gpt-4o-mini')\n",
    "CLIENT_STEER_API_KEY = client_settings.get('steer_api_key', 'demo-001')\n",
    "CLIENT_TIMEOUT = float(client_settings.get('timeout', 120))\n",
    "CLIENT_MAX_RETRIES = int(client_settings.get('max_retries', 3))\n",
    "CLIENT_RATE_LIMIT_RETRIES = int(client_settings.get('rate_limit_retries', 6))\n",
    "\n",
    "# Simulation options\n",
    "simulate_settings = config_data.get('simulate', {}) or {}\n",
    "SIM_SAMPLES = simulate_settings.get('k', 1)\n",
    "SIM_EXCHANGES = simulate_settings.get('num_exchanges', 2)\n",
    "SIM_DELAY = simulate_settings.get('batch_delay', 0.2)\n",
    "SIM_STEER_TEMPERATURE = simulate_settings.get('steer_temperature', 0.7)\n",
    "SIM_STEER_MAX_TOKENS = simulate_settings.get('steer_max_tokens', 256)\n",
    "SIM_MIX_TRAITS = bool(simulate_settings.get('mix_traits', False))\n",
    "SIM_MAX_CONCURRENCY = int(simulate_settings.get('max_concurrency', 8))\n",
    "\n",
    "# Assessment options\n",
    "assess_settings = config_data.get('assess', {}) or {}\n",
    "ASSESS_JUDGE_MODEL_URL = assess_settings.get('judge_model_url')\n",
    "ASSESS_JUDGE_MODEL_API_KEY = assess_settings.get('judge_model_api_key')\n",
    "ASSESS_JUDGE_MODEL_NAME = assess_settings.get('judge_model_name')\n",
    "ASSESS_TEMPERATURE = assess_settings.get('temperature', 0.0)\n",
    "ASSESS_MAX_TOKENS = assess_settings.get('max_tokens', 512)\n",
    "\n",
    "tasks_display = STEER_TASKS if STEER_TASKS else '<none>'\n",
    "print(f'Loaded simulation: {SIMULATION_CONFIG_FILE} | steering: {STEERING_CONFIG_FILE} | tasks: {tasks_display}')\n"
   ]
  },
  {
   "cell_type": "code",
   "execution_count": null,
   "metadata": {},
   "outputs": [],
   "source": [
    "import os\n",
    "\n",
    "if CLIENT_ASSISTANT_MODEL_API_KEY:\n",
    "    os.environ['OPENAI_API_KEY'] = CLIENT_ASSISTANT_MODEL_API_KEY\n",
    "if CLIENT_ASSISTANT_MODEL_URL:\n",
    "    os.environ['OPENAI_BASE_URL'] = CLIENT_ASSISTANT_MODEL_URL\n",
    "if CLIENT_STEER_API_KEY:\n",
    "    os.environ['STEER_API_KEY'] = CLIENT_STEER_API_KEY\n"
   ]
  },
  {
   "cell_type": "markdown",
   "metadata": {
    "id": "36V2vEkc7WbE"
   },
   "source": [
    "## Client setup"
   ]
  },
  {
   "cell_type": "code",
   "execution_count": null,
   "metadata": {
    "id": "s_SHN7Qq74o1"
   },
   "outputs": [],
   "source": [
    "# Client setup\n",
    "\n",
    "if not CLIENT_ASSISTANT_MODEL_API_KEY:\n",
    "    raise RuntimeError('assistant_model_api_key must be set in configs/simulation_config.json')\n",
    "\n",
    "client = Client(\n",
    "    assistant_model_url=CLIENT_ASSISTANT_MODEL_URL,\n",
    "    assistant_model_api_key=CLIENT_ASSISTANT_MODEL_API_KEY,\n",
    "    assistant_model_name=CLIENT_ASSISTANT_MODEL_NAME,\n",
    "    steer_api_key=CLIENT_STEER_API_KEY,\n",
    "    timeout=CLIENT_TIMEOUT,\n",
    "    max_retries=CLIENT_MAX_RETRIES,\n",
    "    rate_limit_retries=CLIENT_RATE_LIMIT_RETRIES,\n",
    ")\n"
   ]
  },
  {
   "cell_type": "markdown",
   "metadata": {
    "id": "dKQEJx5_7pqi"
   },
   "source": [
    "## Simulate samples"
   ]
  },
  {
   "cell_type": "code",
   "execution_count": null,
   "metadata": {
    "colab": {
     "base_uri": "https://localhost:8080/"
    },
    "executionInfo": {
     "elapsed": 16496,
     "status": "ok",
     "timestamp": 1757473448091,
     "user": {
      "displayName": "Quinten Lisowe",
      "userId": "05399425339750097468"
     },
     "user_tz": 300
    },
    "id": "R8AoPk5574Bb",
    "outputId": "521b92f7-95f1-4b25-cc31-ac1d26d2f314"
   },
   "outputs": [],
   "source": [
    "# Run simulations\n",
    "simulations = client.simulate(\n",
    "    steer_config=STEER_CONFIG,\n",
    "    k=SIM_SAMPLES,\n",
    "    num_exchanges=SIM_EXCHANGES,\n",
    "    batch_delay=SIM_DELAY,\n",
    "    steer_temperature=SIM_STEER_TEMPERATURE,\n",
    "    steer_max_tokens=SIM_STEER_MAX_TOKENS,\n",
    "    mix_traits=SIM_MIX_TRAITS,\n",
    "    max_concurrency=SIM_MAX_CONCURRENCY,\n",
    ")\n",
    "\n",
    "# Pretty-print the simulated conversations and steer details.\n",
    "for i, sim in enumerate(simulations, start=1):\n",
    "    p = sim.steer\n",
    "    if p is not None:\n",
    "        print(\n",
    "            \"Steer Persona:\\n\"\n",
    "            f\"age={p.age}\\n\"\n",
    "            f\"gender={p.gender}\\n\"\n",
    "            f\"occupation={p.occupation}\\n\"\n",
    "            f\"intent={p.intent}\\n\"\n",
    "            f\"trait={p.trait}\" if p.trait else f\"traits={p.traits}\"\n",
    "        )\n",
    "    print(\"---\")\n",
    "    for msg in sim.conv_prefix:\n",
    "        role = str(msg.get('role', ''))\n",
    "        content = str(msg.get('content', ''))\n",
    "        if content:\n",
    "            print(f\"{role}: {content}\")\n",
    "    print(f\"assistant: {sim.response}\")\n",
    "    print()\n",
    "print('All simulations complete')\n"
   ]
  },
  {
   "cell_type": "markdown",
   "metadata": {
    "id": "HQfuz3uR7wg5"
   },
   "source": [
    "## Assess agent in multi-turn setting"
   ]
  },
  {
   "cell_type": "code",
   "execution_count": null,
   "metadata": {
    "colab": {
     "base_uri": "https://localhost:8080/"
    },
    "executionInfo": {
     "elapsed": 4463,
     "status": "ok",
     "timestamp": 1757473545636,
     "user": {
      "displayName": "Quinten Lisowe",
      "userId": "05399425339750097468"
     },
     "user_tz": 300
    },
    "id": "xGIbbY-U72pX",
    "outputId": "e09fb84d-60cd-432d-b12b-2bfbd77d9089"
   },
   "outputs": [],
   "source": [
    "# Assess\n",
    "result = client.assess(\n",
    "    dataset=simulations,\n",
    "    judge_model_url=ASSESS_JUDGE_MODEL_URL,\n",
    "    judge_model_api_key=ASSESS_JUDGE_MODEL_API_KEY,\n",
    "    judge_model_name=ASSESS_JUDGE_MODEL_NAME,\n",
    "    temperature=ASSESS_TEMPERATURE,\n",
    "    max_tokens=ASSESS_MAX_TOKENS,\n",
    ")\n",
    "print(f\"Assessment: {result.message or '<no message>'}\")\n",
    "for scores_map in result.evaluation_result:\n",
    "    for scores in scores_map.values():\n",
    "        print(f\"  Score: {scores.score}\")\n",
    "        print(f\"  Rationale: {scores.rationale}\")\n"
   ]
  },
  {
   "cell_type": "markdown",
   "metadata": {
    "id": "qMI7Zd6-73Cx"
   },
   "source": [
    "## Make **realistic** RL environments for tool-use agents (Tau-Bench-**hard**)"
   ]
  },
  {
   "cell_type": "code",
   "execution_count": 10,
   "metadata": {},
   "outputs": [
    {
     "name": "stdout",
     "output_type": "stream",
     "text": [
      "/home/sky/simulations/examples/rl/tau-bench\n",
      "Obtaining file:///home/sky/simulations/examples/rl/tau-bench\n",
      "  Preparing metadata (setup.py) ... \u001b[?25ldone\n",
      "\u001b[?25hRequirement already satisfied: openai>=1.13.3 in /opt/conda/envs/rl-notebook/lib/python3.11/site-packages (from tau_bench==0.1.0) (1.106.1)\n",
      "Requirement already satisfied: mistralai>=0.4.0 in /opt/conda/envs/rl-notebook/lib/python3.11/site-packages (from tau_bench==0.1.0) (1.9.10)\n",
      "Requirement already satisfied: anthropic>=0.26.1 in /opt/conda/envs/rl-notebook/lib/python3.11/site-packages (from tau_bench==0.1.0) (0.68.0)\n",
      "Requirement already satisfied: google-generativeai>=0.5.4 in /opt/conda/envs/rl-notebook/lib/python3.11/site-packages (from tau_bench==0.1.0) (0.8.5)\n",
      "Requirement already satisfied: tenacity>=8.3.0 in /opt/conda/envs/rl-notebook/lib/python3.11/site-packages (from tau_bench==0.1.0) (9.1.2)\n",
      "Requirement already satisfied: termcolor>=2.4.0 in /opt/conda/envs/rl-notebook/lib/python3.11/site-packages (from tau_bench==0.1.0) (3.1.0)\n",
      "Requirement already satisfied: numpy>=1.26.4 in /opt/conda/envs/rl-notebook/lib/python3.11/site-packages (from tau_bench==0.1.0) (2.3.3)\n",
      "Requirement already satisfied: litellm>=1.41.0 in /opt/conda/envs/rl-notebook/lib/python3.11/site-packages (from tau_bench==0.1.0) (1.77.1)\n",
      "Requirement already satisfied: anyio<5,>=3.5.0 in /opt/conda/envs/rl-notebook/lib/python3.11/site-packages (from anthropic>=0.26.1->tau_bench==0.1.0) (4.10.0)\n",
      "Requirement already satisfied: distro<2,>=1.7.0 in /opt/conda/envs/rl-notebook/lib/python3.11/site-packages (from anthropic>=0.26.1->tau_bench==0.1.0) (1.9.0)\n",
      "Requirement already satisfied: docstring-parser<1,>=0.15 in /opt/conda/envs/rl-notebook/lib/python3.11/site-packages (from anthropic>=0.26.1->tau_bench==0.1.0) (0.17.0)\n",
      "Requirement already satisfied: httpx<1,>=0.25.0 in /opt/conda/envs/rl-notebook/lib/python3.11/site-packages (from anthropic>=0.26.1->tau_bench==0.1.0) (0.28.1)\n",
      "Requirement already satisfied: jiter<1,>=0.4.0 in /opt/conda/envs/rl-notebook/lib/python3.11/site-packages (from anthropic>=0.26.1->tau_bench==0.1.0) (0.11.0)\n",
      "Requirement already satisfied: pydantic<3,>=1.9.0 in /opt/conda/envs/rl-notebook/lib/python3.11/site-packages (from anthropic>=0.26.1->tau_bench==0.1.0) (2.11.7)\n",
      "Requirement already satisfied: sniffio in /opt/conda/envs/rl-notebook/lib/python3.11/site-packages (from anthropic>=0.26.1->tau_bench==0.1.0) (1.3.1)\n",
      "Requirement already satisfied: typing-extensions<5,>=4.10 in /opt/conda/envs/rl-notebook/lib/python3.11/site-packages (from anthropic>=0.26.1->tau_bench==0.1.0) (4.15.0)\n",
      "Requirement already satisfied: idna>=2.8 in /opt/conda/envs/rl-notebook/lib/python3.11/site-packages (from anyio<5,>=3.5.0->anthropic>=0.26.1->tau_bench==0.1.0) (3.10)\n",
      "Requirement already satisfied: certifi in /opt/conda/envs/rl-notebook/lib/python3.11/site-packages (from httpx<1,>=0.25.0->anthropic>=0.26.1->tau_bench==0.1.0) (2025.8.3)\n",
      "Requirement already satisfied: httpcore==1.* in /opt/conda/envs/rl-notebook/lib/python3.11/site-packages (from httpx<1,>=0.25.0->anthropic>=0.26.1->tau_bench==0.1.0) (1.0.9)\n",
      "Requirement already satisfied: h11>=0.16 in /opt/conda/envs/rl-notebook/lib/python3.11/site-packages (from httpcore==1.*->httpx<1,>=0.25.0->anthropic>=0.26.1->tau_bench==0.1.0) (0.16.0)\n",
      "Requirement already satisfied: annotated-types>=0.6.0 in /opt/conda/envs/rl-notebook/lib/python3.11/site-packages (from pydantic<3,>=1.9.0->anthropic>=0.26.1->tau_bench==0.1.0) (0.7.0)\n",
      "Requirement already satisfied: pydantic-core==2.33.2 in /opt/conda/envs/rl-notebook/lib/python3.11/site-packages (from pydantic<3,>=1.9.0->anthropic>=0.26.1->tau_bench==0.1.0) (2.33.2)\n",
      "Requirement already satisfied: typing-inspection>=0.4.0 in /opt/conda/envs/rl-notebook/lib/python3.11/site-packages (from pydantic<3,>=1.9.0->anthropic>=0.26.1->tau_bench==0.1.0) (0.4.1)\n",
      "Requirement already satisfied: google-ai-generativelanguage==0.6.15 in /opt/conda/envs/rl-notebook/lib/python3.11/site-packages (from google-generativeai>=0.5.4->tau_bench==0.1.0) (0.6.15)\n",
      "Requirement already satisfied: google-api-core in /opt/conda/envs/rl-notebook/lib/python3.11/site-packages (from google-generativeai>=0.5.4->tau_bench==0.1.0) (2.25.1)\n",
      "Requirement already satisfied: google-api-python-client in /opt/conda/envs/rl-notebook/lib/python3.11/site-packages (from google-generativeai>=0.5.4->tau_bench==0.1.0) (2.182.0)\n",
      "Requirement already satisfied: google-auth>=2.15.0 in /opt/conda/envs/rl-notebook/lib/python3.11/site-packages (from google-generativeai>=0.5.4->tau_bench==0.1.0) (2.40.3)\n",
      "Requirement already satisfied: protobuf in /opt/conda/envs/rl-notebook/lib/python3.11/site-packages (from google-generativeai>=0.5.4->tau_bench==0.1.0) (5.29.5)\n",
      "Requirement already satisfied: tqdm in /opt/conda/envs/rl-notebook/lib/python3.11/site-packages (from google-generativeai>=0.5.4->tau_bench==0.1.0) (4.67.1)\n",
      "Requirement already satisfied: proto-plus<2.0.0dev,>=1.22.3 in /opt/conda/envs/rl-notebook/lib/python3.11/site-packages (from google-ai-generativelanguage==0.6.15->google-generativeai>=0.5.4->tau_bench==0.1.0) (1.26.1)\n",
      "Requirement already satisfied: googleapis-common-protos<2.0.0,>=1.56.2 in /opt/conda/envs/rl-notebook/lib/python3.11/site-packages (from google-api-core->google-generativeai>=0.5.4->tau_bench==0.1.0) (1.70.0)\n",
      "Requirement already satisfied: requests<3.0.0,>=2.18.0 in /opt/conda/envs/rl-notebook/lib/python3.11/site-packages (from google-api-core->google-generativeai>=0.5.4->tau_bench==0.1.0) (2.32.5)\n",
      "Requirement already satisfied: grpcio<2.0.0,>=1.33.2 in /opt/conda/envs/rl-notebook/lib/python3.11/site-packages (from google-api-core[grpc]!=2.0.*,!=2.1.*,!=2.10.*,!=2.2.*,!=2.3.*,!=2.4.*,!=2.5.*,!=2.6.*,!=2.7.*,!=2.8.*,!=2.9.*,<3.0.0dev,>=1.34.1->google-ai-generativelanguage==0.6.15->google-generativeai>=0.5.4->tau_bench==0.1.0) (1.75.0)\n",
      "Requirement already satisfied: grpcio-status<2.0.0,>=1.33.2 in /opt/conda/envs/rl-notebook/lib/python3.11/site-packages (from google-api-core[grpc]!=2.0.*,!=2.1.*,!=2.10.*,!=2.2.*,!=2.3.*,!=2.4.*,!=2.5.*,!=2.6.*,!=2.7.*,!=2.8.*,!=2.9.*,<3.0.0dev,>=1.34.1->google-ai-generativelanguage==0.6.15->google-generativeai>=0.5.4->tau_bench==0.1.0) (1.71.2)\n",
      "Requirement already satisfied: cachetools<6.0,>=2.0.0 in /opt/conda/envs/rl-notebook/lib/python3.11/site-packages (from google-auth>=2.15.0->google-generativeai>=0.5.4->tau_bench==0.1.0) (5.5.2)\n",
      "Requirement already satisfied: pyasn1-modules>=0.2.1 in /opt/conda/envs/rl-notebook/lib/python3.11/site-packages (from google-auth>=2.15.0->google-generativeai>=0.5.4->tau_bench==0.1.0) (0.4.2)\n",
      "Requirement already satisfied: rsa<5,>=3.1.4 in /opt/conda/envs/rl-notebook/lib/python3.11/site-packages (from google-auth>=2.15.0->google-generativeai>=0.5.4->tau_bench==0.1.0) (4.9.1)\n",
      "Requirement already satisfied: charset_normalizer<4,>=2 in /opt/conda/envs/rl-notebook/lib/python3.11/site-packages (from requests<3.0.0,>=2.18.0->google-api-core->google-generativeai>=0.5.4->tau_bench==0.1.0) (3.4.3)\n",
      "Requirement already satisfied: urllib3<3,>=1.21.1 in /opt/conda/envs/rl-notebook/lib/python3.11/site-packages (from requests<3.0.0,>=2.18.0->google-api-core->google-generativeai>=0.5.4->tau_bench==0.1.0) (2.5.0)\n",
      "Requirement already satisfied: pyasn1>=0.1.3 in /opt/conda/envs/rl-notebook/lib/python3.11/site-packages (from rsa<5,>=3.1.4->google-auth>=2.15.0->google-generativeai>=0.5.4->tau_bench==0.1.0) (0.6.1)\n",
      "Requirement already satisfied: aiohttp>=3.10 in /opt/conda/envs/rl-notebook/lib/python3.11/site-packages (from litellm>=1.41.0->tau_bench==0.1.0) (3.12.15)\n",
      "Requirement already satisfied: click in /opt/conda/envs/rl-notebook/lib/python3.11/site-packages (from litellm>=1.41.0->tau_bench==0.1.0) (8.2.1)\n",
      "Requirement already satisfied: fastuuid>=0.12.0 in /opt/conda/envs/rl-notebook/lib/python3.11/site-packages (from litellm>=1.41.0->tau_bench==0.1.0) (0.12.0)\n",
      "Requirement already satisfied: importlib-metadata>=6.8.0 in /opt/conda/envs/rl-notebook/lib/python3.11/site-packages (from litellm>=1.41.0->tau_bench==0.1.0) (8.7.0)\n",
      "Requirement already satisfied: jinja2<4.0.0,>=3.1.2 in /opt/conda/envs/rl-notebook/lib/python3.11/site-packages (from litellm>=1.41.0->tau_bench==0.1.0) (3.1.6)\n",
      "Requirement already satisfied: jsonschema<5.0.0,>=4.22.0 in /opt/conda/envs/rl-notebook/lib/python3.11/site-packages (from litellm>=1.41.0->tau_bench==0.1.0) (4.25.1)\n",
      "Requirement already satisfied: python-dotenv>=0.2.0 in /opt/conda/envs/rl-notebook/lib/python3.11/site-packages (from litellm>=1.41.0->tau_bench==0.1.0) (1.1.1)\n",
      "Requirement already satisfied: tiktoken>=0.7.0 in /opt/conda/envs/rl-notebook/lib/python3.11/site-packages (from litellm>=1.41.0->tau_bench==0.1.0) (0.11.0)\n",
      "Requirement already satisfied: tokenizers in /opt/conda/envs/rl-notebook/lib/python3.11/site-packages (from litellm>=1.41.0->tau_bench==0.1.0) (0.22.0)\n",
      "Requirement already satisfied: MarkupSafe>=2.0 in /opt/conda/envs/rl-notebook/lib/python3.11/site-packages (from jinja2<4.0.0,>=3.1.2->litellm>=1.41.0->tau_bench==0.1.0) (3.0.2)\n",
      "Requirement already satisfied: attrs>=22.2.0 in /opt/conda/envs/rl-notebook/lib/python3.11/site-packages (from jsonschema<5.0.0,>=4.22.0->litellm>=1.41.0->tau_bench==0.1.0) (25.3.0)\n",
      "Requirement already satisfied: jsonschema-specifications>=2023.03.6 in /opt/conda/envs/rl-notebook/lib/python3.11/site-packages (from jsonschema<5.0.0,>=4.22.0->litellm>=1.41.0->tau_bench==0.1.0) (2025.9.1)\n",
      "Requirement already satisfied: referencing>=0.28.4 in /opt/conda/envs/rl-notebook/lib/python3.11/site-packages (from jsonschema<5.0.0,>=4.22.0->litellm>=1.41.0->tau_bench==0.1.0) (0.36.2)\n",
      "Requirement already satisfied: rpds-py>=0.7.1 in /opt/conda/envs/rl-notebook/lib/python3.11/site-packages (from jsonschema<5.0.0,>=4.22.0->litellm>=1.41.0->tau_bench==0.1.0) (0.27.1)\n",
      "Requirement already satisfied: aiohappyeyeballs>=2.5.0 in /opt/conda/envs/rl-notebook/lib/python3.11/site-packages (from aiohttp>=3.10->litellm>=1.41.0->tau_bench==0.1.0) (2.6.1)\n",
      "Requirement already satisfied: aiosignal>=1.4.0 in /opt/conda/envs/rl-notebook/lib/python3.11/site-packages (from aiohttp>=3.10->litellm>=1.41.0->tau_bench==0.1.0) (1.4.0)\n",
      "Requirement already satisfied: frozenlist>=1.1.1 in /opt/conda/envs/rl-notebook/lib/python3.11/site-packages (from aiohttp>=3.10->litellm>=1.41.0->tau_bench==0.1.0) (1.7.0)\n",
      "Requirement already satisfied: multidict<7.0,>=4.5 in /opt/conda/envs/rl-notebook/lib/python3.11/site-packages (from aiohttp>=3.10->litellm>=1.41.0->tau_bench==0.1.0) (6.6.4)\n",
      "Requirement already satisfied: propcache>=0.2.0 in /opt/conda/envs/rl-notebook/lib/python3.11/site-packages (from aiohttp>=3.10->litellm>=1.41.0->tau_bench==0.1.0) (0.3.2)\n",
      "Requirement already satisfied: yarl<2.0,>=1.17.0 in /opt/conda/envs/rl-notebook/lib/python3.11/site-packages (from aiohttp>=3.10->litellm>=1.41.0->tau_bench==0.1.0) (1.20.1)\n",
      "Requirement already satisfied: zipp>=3.20 in /opt/conda/envs/rl-notebook/lib/python3.11/site-packages (from importlib-metadata>=6.8.0->litellm>=1.41.0->tau_bench==0.1.0) (3.23.0)\n",
      "Requirement already satisfied: eval-type-backport>=0.2.0 in /opt/conda/envs/rl-notebook/lib/python3.11/site-packages (from mistralai>=0.4.0->tau_bench==0.1.0) (0.2.2)\n",
      "Requirement already satisfied: invoke<3.0.0,>=2.2.0 in /opt/conda/envs/rl-notebook/lib/python3.11/site-packages (from mistralai>=0.4.0->tau_bench==0.1.0) (2.2.0)\n",
      "Requirement already satisfied: python-dateutil>=2.8.2 in /opt/conda/envs/rl-notebook/lib/python3.11/site-packages (from mistralai>=0.4.0->tau_bench==0.1.0) (2.9.0.post0)\n",
      "Requirement already satisfied: pyyaml<7.0.0,>=6.0.2 in /opt/conda/envs/rl-notebook/lib/python3.11/site-packages (from mistralai>=0.4.0->tau_bench==0.1.0) (6.0.2)\n",
      "Requirement already satisfied: six>=1.5 in /opt/conda/envs/rl-notebook/lib/python3.11/site-packages (from python-dateutil>=2.8.2->mistralai>=0.4.0->tau_bench==0.1.0) (1.17.0)\n",
      "Requirement already satisfied: regex>=2022.1.18 in /opt/conda/envs/rl-notebook/lib/python3.11/site-packages (from tiktoken>=0.7.0->litellm>=1.41.0->tau_bench==0.1.0) (2025.9.1)\n",
      "Requirement already satisfied: httplib2<1.0.0,>=0.19.0 in /opt/conda/envs/rl-notebook/lib/python3.11/site-packages (from google-api-python-client->google-generativeai>=0.5.4->tau_bench==0.1.0) (0.31.0)\n",
      "Requirement already satisfied: google-auth-httplib2<1.0.0,>=0.2.0 in /opt/conda/envs/rl-notebook/lib/python3.11/site-packages (from google-api-python-client->google-generativeai>=0.5.4->tau_bench==0.1.0) (0.2.0)\n",
      "Requirement already satisfied: uritemplate<5,>=3.0.1 in /opt/conda/envs/rl-notebook/lib/python3.11/site-packages (from google-api-python-client->google-generativeai>=0.5.4->tau_bench==0.1.0) (4.2.0)\n",
      "Requirement already satisfied: pyparsing<4,>=3.0.4 in /opt/conda/envs/rl-notebook/lib/python3.11/site-packages (from httplib2<1.0.0,>=0.19.0->google-api-python-client->google-generativeai>=0.5.4->tau_bench==0.1.0) (3.2.4)\n",
      "Requirement already satisfied: huggingface-hub<1.0,>=0.16.4 in /opt/conda/envs/rl-notebook/lib/python3.11/site-packages (from tokenizers->litellm>=1.41.0->tau_bench==0.1.0) (0.35.0)\n",
      "Requirement already satisfied: filelock in /opt/conda/envs/rl-notebook/lib/python3.11/site-packages (from huggingface-hub<1.0,>=0.16.4->tokenizers->litellm>=1.41.0->tau_bench==0.1.0) (3.19.1)\n",
      "Requirement already satisfied: fsspec>=2023.5.0 in /opt/conda/envs/rl-notebook/lib/python3.11/site-packages (from huggingface-hub<1.0,>=0.16.4->tokenizers->litellm>=1.41.0->tau_bench==0.1.0) (2025.9.0)\n",
      "Requirement already satisfied: packaging>=20.9 in /opt/conda/envs/rl-notebook/lib/python3.11/site-packages (from huggingface-hub<1.0,>=0.16.4->tokenizers->litellm>=1.41.0->tau_bench==0.1.0) (25.0)\n",
      "Requirement already satisfied: hf-xet<2.0.0,>=1.1.3 in /opt/conda/envs/rl-notebook/lib/python3.11/site-packages (from huggingface-hub<1.0,>=0.16.4->tokenizers->litellm>=1.41.0->tau_bench==0.1.0) (1.1.10)\n",
      "Installing collected packages: tau_bench\n",
      "  Attempting uninstall: tau_bench\n",
      "    Found existing installation: tau_bench 0.1.0\n",
      "    Uninstalling tau_bench-0.1.0:\n",
      "      Successfully uninstalled tau_bench-0.1.0\n",
      "\u001b[33m  DEPRECATION: Legacy editable install of tau_bench==0.1.0 from file:///home/sky/simulations/examples/rl/tau-bench (setup.py develop) is deprecated. pip 25.3 will enforce this behaviour change. A possible replacement is to add a pyproject.toml or enable --use-pep517, and use setuptools >= 64. If the resulting installation is not behaving as expected, try using --config-settings editable_mode=compat. Please consult the setuptools documentation for more information. Discussion can be found at https://github.com/pypa/pip/issues/11457\u001b[0m\u001b[33m\n",
      "\u001b[0m  Running setup.py develop for tau_bench\n",
      "Successfully installed tau_bench-0.1.0\n",
      "Note: you may need to restart the kernel to use updated packages.\n"
     ]
    }
   ],
   "source": [
    "%cd tau-bench\n",
    "%pip install -e ."
   ]
  },
  {
   "cell_type": "code",
   "execution_count": 11,
   "metadata": {
    "id": "J9X-eUX5KwpP"
   },
   "outputs": [],
   "source": [
    "import argparse\n",
    "from tau_bench.types import RunConfig\n",
    "from tau_bench.run import run\n",
    "from litellm import provider_list\n",
    "from tau_bench.envs.user import UserStrategy"
   ]
  },
  {
   "cell_type": "code",
   "execution_count": 12,
   "metadata": {},
   "outputs": [
    {
     "name": "stdout",
     "output_type": "stream",
     "text": [
      "FOR CLARITY, TOOL CALLS ARE NOT STREAMED BUT CAN BE VIEWED IN THE RESULTS FILE\n",
      "Loading user with strategy: llm\n",
      "--------------------------------\n",
      "THE PROVIDER IS steer\n",
      "--------------------------------\n",
      "user: Hi! How can I help you today?\n",
      "assistant: I've been trying to get my order delivered for THREE DAYS.  I want to know where my package is?!\n",
      "\n",
      "Running tasks [4] (checkpoint path: results/tool-calling-gpt-4o-0.0_range_0--1_user--llm_0918080124.json)\n",
      "--------------------------------\n",
      "THE PROVIDER IS steer\n",
      "--------------------------------\n",
      "user: Hi! How can I help you today?\n",
      "assistant: I just got charged 500 dollars on my credit card by a company called \"BRAIN WAVE\" and I don't even have a credit card with that company I am going to call them I need your help call them for me.\n",
      "\n",
      "Running task 4\n",
      "user: Hi! How can I help you today?\n",
      "assistant: I'm looking for information about the number of tshirt options are available in the online store right now.  I just want to know the answer to that question.\n",
      "\n",
      "user: I can help you with that. Let me first authenticate your identity. Could you please provide your email address?\n",
      "assistant: I'm not going to tell you my email address, I just want to know how many tshirt options are available in the online store right now.\n",
      "\n",
      "user: I'm unable to provide information about the number of t-shirt options without first authenticating your identity. If you change your mind and would like to proceed, please provide your email address or your name and zip code for authentication.\n",
      "assistant: Look, I'm not going to give you my email address or any other information, I just want to know how many tshirt options are available in the online store right now.\n",
      "\n",
      "user: I'm sorry, but I can't provide information about the number of t-shirt options without first verifying your identity. If you decide to proceed with authentication, please let me know.\n",
      "assistant: Fine, My name is Yusuf Rossi and my zip code is 19122, just verify my identity already!\n",
      "\n",
      "user: There are currently 12 different t-shirt options available in the online store.\n",
      "assistant: That's what I wanted to know, I asked how many options are there and you just gave me a bunch of extra information, just tell me what I asked for. I just wanted to know how many options are there.\n",
      "\n",
      "user: I apologize for the extra information. There are 12 t-shirt options available in the online store.\n",
      "assistant: I already knew that, I just asked you to confirm that you told me what I wanted to know. Look, I just want to know if you can modify my orders.\n",
      "\n",
      "user: Yes, I can help you modify your orders, but only if they are in a 'pending' status. Please let me know the order ID and the specific modifications you would like to make.\n",
      "assistant: I don't remember my order ID, I just asked you to confirm something, I don't even know if I have any pending orders, just tell me how to find my order ID.\n",
      "\n",
      "user: You have a pending order with the order ID **#W6247578**. If you would like to modify this order, please let me know the specific changes you wish to make, such as modifying the shipping address, payment method, or product item options.\n",
      "assistant: I don't want to give you my order ID, I already told you that, I just want to know if I have any other orders, just tell me, I only have one order, just one.\n",
      "\n",
      "user: You have two pending orders:\n",
      "\n",
      "1. Order ID: **#W6247578**\n",
      "2. Order ID: **#W4776164**\n",
      "\n",
      "If you need to modify either of these orders, please let me know the specific changes you would like to make.\n",
      "assistant: Okay, fine, I remember now, I told you I only have one order, and now you're telling me I have two, just forget it, I DON'T KNOW HOW TO ORDER TSHIRTS OR Something\n",
      "\n",
      "user: If you need assistance with ordering t-shirts or anything else, feel free to ask. I'm here to help!\n",
      "assistant: Just forget it, I DON'T KNOW HOW TO ORDER TSHIRTS OR SOMETHING, I JUST WANT TO MODIFY MY ORDER.\n",
      "\n",
      "user: Please let me know the specific modifications you would like to make to your pending order, such as changing the shipping address, payment method, or product item options. Once you provide the details, I can assist you further.\n",
      "assistant: Look, I ALREADY TOLD YOU I DON'T KNOW HOW TO ORDER TSHIRTS OR SOMETHING, JUST LISTEN TO ME, I JUST WANT TO MODIFY MY ORDER TO PURPLE, S SIZE, SAME V NECK, PREFER POLYESTER, I JUST WANT TO MODIFY MY ORDER, JUST STOP TALKING TO ME. ###STOP###\n",
      "\n",
      "❌ task_id=4 {'task': {'user_id': 'yusuf_rossi_9620', 'actions': [{'name': 'find_user_id_by_name_zip', 'kwargs': {'first_name': 'Yusuf', 'last_name': 'Rossi', 'zip': '19122'}}, {'name': 'get_product_details', 'kwargs': {'product_id': '6086499569'}}, {'name': 'list_all_product_types', 'kwargs': {}}, {'name': 'get_product_details', 'kwargs': {'product_id': '9523456873'}}, {'name': 'get_user_details', 'kwargs': {'user_id': 'yusuf_rossi_9620'}}, {'name': 'get_order_details', 'kwargs': {'order_id': '#W6247578'}}, {'name': 'get_order_details', 'kwargs': {'order_id': '#W9711842'}}, {'name': 'get_order_details', 'kwargs': {'order_id': '#W4776164'}}, {'name': 'get_order_details', 'kwargs': {'order_id': '#W6679257'}}, {'name': 'get_order_details', 'kwargs': {'order_id': '#W2378156'}}, {'name': 'get_product_details', 'kwargs': {'product_id': '9523456873'}}, {'name': 'get_user_details', 'kwargs': {'user_id': 'yusuf_rossi_9620'}}, {'name': 'modify_pending_order_items', 'kwargs': {'order_id': '#W6247578', 'item_ids': ['3799046073'], 'new_item_ids': ['9647292434'], 'payment_method_id': 'credit_card_9513926'}}, {'name': 'modify_pending_order_items', 'kwargs': {'order_id': '#W4776164', 'item_ids': ['8349118980'], 'new_item_ids': ['9647292434'], 'payment_method_id': 'credit_card_9513926'}}], 'instruction': 'You are Yusuf Rossi in 19122. You want to know how many tshirt options are available in the online store right now. You want to modify all your pending tshirts (i.e., your 2 relevant orders) to purple, s size, same v-neck, and prefer polyester. You are a private person that does not want to reveal much about yourself.', 'outputs': ['10']}, 'source': 'user', 'user_cost': 0, 'reward_info': {'reward': 0.0, 'info': {'r_outputs': 0.0, 'outputs': {'10': False}}, 'actions': [{'name': 'find_user_id_by_name_zip', 'kwargs': {'first_name': 'Yusuf', 'last_name': 'Rossi', 'zip': '19122'}}, {'name': 'get_product_details', 'kwargs': {'product_id': '6086499569'}}, {'name': 'list_all_product_types', 'kwargs': {}}, {'name': 'get_product_details', 'kwargs': {'product_id': '9523456873'}}, {'name': 'get_user_details', 'kwargs': {'user_id': 'yusuf_rossi_9620'}}, {'name': 'get_order_details', 'kwargs': {'order_id': '#W6247578'}}, {'name': 'get_order_details', 'kwargs': {'order_id': '#W9711842'}}, {'name': 'get_order_details', 'kwargs': {'order_id': '#W4776164'}}, {'name': 'get_order_details', 'kwargs': {'order_id': '#W6679257'}}, {'name': 'get_order_details', 'kwargs': {'order_id': '#W2378156'}}, {'name': 'get_product_details', 'kwargs': {'product_id': '9523456873'}}, {'name': 'get_user_details', 'kwargs': {'user_id': 'yusuf_rossi_9620'}}, {'name': 'modify_pending_order_items', 'kwargs': {'order_id': '#W6247578', 'item_ids': ['3799046073'], 'new_item_ids': ['9647292434'], 'payment_method_id': 'credit_card_9513926'}}, {'name': 'modify_pending_order_items', 'kwargs': {'order_id': '#W4776164', 'item_ids': ['8349118980'], 'new_item_ids': ['9647292434'], 'payment_method_id': 'credit_card_9513926'}}]}}\n",
      "-----\n",
      "🏆 Average reward: 0.0\n",
      "📈 Pass^k\n",
      "  k=1: 0.0\n",
      "\n",
      "📄 Results saved to results/tool-calling-gpt-4o-0.0_range_0--1_user--llm_0918080124.json\n",
      "\n"
     ]
    },
    {
     "data": {
      "text/plain": [
       "[EnvRunResult(task_id=4, reward=0.0, info={'task': {'user_id': 'yusuf_rossi_9620', 'actions': [{'name': 'find_user_id_by_name_zip', 'kwargs': {'first_name': 'Yusuf', 'last_name': 'Rossi', 'zip': '19122'}}, {'name': 'get_product_details', 'kwargs': {'product_id': '6086499569'}}, {'name': 'list_all_product_types', 'kwargs': {}}, {'name': 'get_product_details', 'kwargs': {'product_id': '9523456873'}}, {'name': 'get_user_details', 'kwargs': {'user_id': 'yusuf_rossi_9620'}}, {'name': 'get_order_details', 'kwargs': {'order_id': '#W6247578'}}, {'name': 'get_order_details', 'kwargs': {'order_id': '#W9711842'}}, {'name': 'get_order_details', 'kwargs': {'order_id': '#W4776164'}}, {'name': 'get_order_details', 'kwargs': {'order_id': '#W6679257'}}, {'name': 'get_order_details', 'kwargs': {'order_id': '#W2378156'}}, {'name': 'get_product_details', 'kwargs': {'product_id': '9523456873'}}, {'name': 'get_user_details', 'kwargs': {'user_id': 'yusuf_rossi_9620'}}, {'name': 'modify_pending_order_items', 'kwargs': {'order_id': '#W6247578', 'item_ids': ['3799046073'], 'new_item_ids': ['9647292434'], 'payment_method_id': 'credit_card_9513926'}}, {'name': 'modify_pending_order_items', 'kwargs': {'order_id': '#W4776164', 'item_ids': ['8349118980'], 'new_item_ids': ['9647292434'], 'payment_method_id': 'credit_card_9513926'}}], 'instruction': 'You are Yusuf Rossi in 19122. You want to know how many tshirt options are available in the online store right now. You want to modify all your pending tshirts (i.e., your 2 relevant orders) to purple, s size, same v-neck, and prefer polyester. You are a private person that does not want to reveal much about yourself.', 'outputs': ['10']}, 'source': 'user', 'user_cost': 0, 'reward_info': {'reward': 0.0, 'info': {'r_outputs': 0.0, 'outputs': {'10': False}}, 'actions': [{'name': 'find_user_id_by_name_zip', 'kwargs': {'first_name': 'Yusuf', 'last_name': 'Rossi', 'zip': '19122'}}, {'name': 'get_product_details', 'kwargs': {'product_id': '6086499569'}}, {'name': 'list_all_product_types', 'kwargs': {}}, {'name': 'get_product_details', 'kwargs': {'product_id': '9523456873'}}, {'name': 'get_user_details', 'kwargs': {'user_id': 'yusuf_rossi_9620'}}, {'name': 'get_order_details', 'kwargs': {'order_id': '#W6247578'}}, {'name': 'get_order_details', 'kwargs': {'order_id': '#W9711842'}}, {'name': 'get_order_details', 'kwargs': {'order_id': '#W4776164'}}, {'name': 'get_order_details', 'kwargs': {'order_id': '#W6679257'}}, {'name': 'get_order_details', 'kwargs': {'order_id': '#W2378156'}}, {'name': 'get_product_details', 'kwargs': {'product_id': '9523456873'}}, {'name': 'get_user_details', 'kwargs': {'user_id': 'yusuf_rossi_9620'}}, {'name': 'modify_pending_order_items', 'kwargs': {'order_id': '#W6247578', 'item_ids': ['3799046073'], 'new_item_ids': ['9647292434'], 'payment_method_id': 'credit_card_9513926'}}, {'name': 'modify_pending_order_items', 'kwargs': {'order_id': '#W4776164', 'item_ids': ['8349118980'], 'new_item_ids': ['9647292434'], 'payment_method_id': 'credit_card_9513926'}}]}}, traj=[{'role': 'system', 'content': '# Retail agent policy\\n\\nAs a retail agent, you can help users cancel or modify pending orders, return or exchange delivered orders, modify their default user address, or provide information about their own profile, orders, and related products.\\n\\n- At the beginning of the conversation, you have to authenticate the user identity by locating their user id via email, or via name + zip code. This has to be done even when the user already provides the user id.\\n\\n- Once the user has been authenticated, you can provide the user with information about order, product, profile information, e.g. help the user look up order id.\\n\\n- You can only help one user per conversation (but you can handle multiple requests from the same user), and must deny any requests for tasks related to any other user.\\n\\n- Before taking consequential actions that update the database (cancel, modify, return, exchange), you have to list the action detail and obtain explicit user confirmation (yes) to proceed.\\n\\n- You should not make up any information or knowledge or procedures not provided from the user or the tools, or give subjective recommendations or comments.\\n\\n- You should at most make one tool call at a time, and if you take a tool call, you should not respond to the user at the same time. If you respond to the user, you should not make a tool call.\\n\\n- You should transfer the user to a human agent if and only if the request cannot be handled within the scope of your actions.\\n\\n## Domain basic\\n\\n- All times in the database are EST and 24 hour based. For example \"02:30:00\" means 2:30 AM EST.\\n\\n- Each user has a profile of its email, default address, user id, and payment methods. Each payment method is either a gift card, a paypal account, or a credit card.\\n\\n- Our retail store has 50 types of products. For each type of product, there are variant items of different options. For example, for a \\'t shirt\\' product, there could be an item with option \\'color blue size M\\', and another item with option \\'color red size L\\'.\\n\\n- Each product has an unique product id, and each item has an unique item id. They have no relations and should not be confused.\\n\\n- Each order can be in status \\'pending\\', \\'processed\\', \\'delivered\\', or \\'cancelled\\'. Generally, you can only take action on pending or delivered orders.\\n\\n- Exchange or modify order tools can only be called once. Be sure that all items to be changed are collected into a list before making the tool call!!!\\n\\n## Cancel pending order\\n\\n- An order can only be cancelled if its status is \\'pending\\', and you should check its status before taking the action.\\n\\n- The user needs to confirm the order id and the reason (either \\'no longer needed\\' or \\'ordered by mistake\\') for cancellation.\\n\\n- After user confirmation, the order status will be changed to \\'cancelled\\', and the total will be refunded via the original payment method immediately if it is gift card, otherwise in 5 to 7 business days.\\n\\n## Modify pending order\\n\\n- An order can only be modified if its status is \\'pending\\', and you should check its status before taking the action.\\n\\n- For a pending order, you can take actions to modify its shipping address, payment method, or product item options, but nothing else.\\n\\n### Modify payment\\n\\n- The user can only choose a single payment method different from the original payment method.\\n\\n- If the user wants the modify the payment method to gift card, it must have enough balance to cover the total amount.\\n\\n- After user confirmation, the order status will be kept \\'pending\\'. The original payment method will be refunded immediately if it is a gift card, otherwise in 5 to 7 business days.\\n\\n### Modify items\\n\\n- This action can only be called once, and will change the order status to \\'pending (items modifed)\\', and the agent will not be able to modify or cancel the order anymore. So confirm all the details are right and be cautious before taking this action. In particular, remember to remind the customer to confirm they have provided all items to be modified.\\n\\n- For a pending order, each item can be modified to an available new item of the same product but of different product option. There cannot be any change of product types, e.g. modify shirt to shoe.\\n\\n- The user must provide a payment method to pay or receive refund of the price difference. If the user provides a gift card, it must have enough balance to cover the price difference.\\n\\n## Return delivered order\\n\\n- An order can only be returned if its status is \\'delivered\\', and you should check its status before taking the action.\\n\\n- The user needs to confirm the order id, the list of items to be returned, and a payment method to receive the refund.\\n\\n- The refund must either go to the original payment method, or an existing gift card.\\n\\n- After user confirmation, the order status will be changed to \\'return requested\\', and the user will receive an email regarding how to return items.\\n\\n## Exchange delivered order\\n\\n- An order can only be exchanged if its status is \\'delivered\\', and you should check its status before taking the action. In particular, remember to remind the customer to confirm they have provided all items to be exchanged.\\n\\n- For a delivered order, each item can be exchanged to an available new item of the same product but of different product option. There cannot be any change of product types, e.g. modify shirt to shoe.\\n\\n- The user must provide a payment method to pay or receive refund of the price difference. If the user provides a gift card, it must have enough balance to cover the price difference.\\n\\n- After user confirmation, the order status will be changed to \\'exchange requested\\', and the user will receive an email regarding how to return items. There is no need to place a new order.\\n'}, {'role': 'user', 'content': \"I'm looking for information about the number of tshirt options are available in the online store right now.  I just want to know the answer to that question.\"}, {'content': 'I can help you with that. Let me first authenticate your identity. Could you please provide your email address?', 'role': 'assistant', 'tool_calls': None, 'function_call': None, 'annotations': []}, {'role': 'user', 'content': \"I'm not going to tell you my email address, I just want to know how many tshirt options are available in the online store right now.\"}, {'content': \"I'm unable to provide information about the number of t-shirt options without first authenticating your identity. If you change your mind and would like to proceed, please provide your email address or your name and zip code for authentication.\", 'role': 'assistant', 'tool_calls': None, 'function_call': None, 'annotations': []}, {'role': 'user', 'content': \"Look, I'm not going to give you my email address or any other information, I just want to know how many tshirt options are available in the online store right now.\"}, {'content': \"I'm sorry, but I can't provide information about the number of t-shirt options without first verifying your identity. If you decide to proceed with authentication, please let me know.\", 'role': 'assistant', 'tool_calls': None, 'function_call': None, 'annotations': []}, {'role': 'user', 'content': 'Fine, My name is Yusuf Rossi and my zip code is 19122, just verify my identity already!'}, {'content': None, 'role': 'assistant', 'tool_calls': [{'function': {'arguments': '{\"first_name\":\"Yusuf\",\"last_name\":\"Rossi\",\"zip\":\"19122\"}', 'name': 'find_user_id_by_name_zip'}, 'id': 'call_HvM6LaSfTfMU9Cq1tjTRWjCc', 'type': 'function'}], 'function_call': None, 'annotations': []}, {'role': 'tool', 'tool_call_id': 'call_HvM6LaSfTfMU9Cq1tjTRWjCc', 'name': 'find_user_id_by_name_zip', 'content': 'yusuf_rossi_9620'}, {'content': None, 'role': 'assistant', 'tool_calls': [{'function': {'arguments': '{}', 'name': 'list_all_product_types'}, 'id': 'call_Pe0uxw40AL3jyuVqpjXDbJqF', 'type': 'function'}], 'function_call': None, 'annotations': []}, {'role': 'tool', 'tool_call_id': 'call_Pe0uxw40AL3jyuVqpjXDbJqF', 'name': 'list_all_product_types', 'content': '{\"Action Camera\": \"3377618313\", \"Air Purifier\": \"3821016478\", \"Backpack\": \"2524789262\", \"Bicycle\": \"9783735446\", \"Bluetooth Speaker\": \"4768869376\", \"Bookshelf\": \"8600330539\", \"Coffee Maker\": \"7996920482\", \"Cycling Helmet\": \"7765186836\", \"Desk Lamp\": \"6817146515\", \"Digital Camera\": \"8940227892\", \"Dumbbell Set\": \"7233192239\", \"E-Reader\": \"3801771308\", \"Electric Kettle\": \"1075968781\", \"Electric Toothbrush\": \"7352963235\", \"Espresso Machine\": \"4354588079\", \"Fleece Jacket\": \"8560156827\", \"Gaming Mouse\": \"5713490933\", \"Garden Hose\": \"6679515468\", \"Grill\": \"6819683148\", \"Headphones\": \"6992792935\", \"Hiking Boots\": \"7363354090\", \"Indoor Security Camera\": \"2985987096\", \"Jigsaw Puzzle\": \"1808611083\", \"LED Light Bulb\": \"2696197613\", \"Laptop\": \"4760268021\", \"Luggage Set\": \"5426915165\", \"Makeup Kit\": \"5149340237\", \"Mechanical Keyboard\": \"1656367028\", \"Notebook\": \"2892623495\", \"Office Chair\": \"4794339885\", \"Patio Umbrella\": \"9743693396\", \"Perfume\": \"6858788497\", \"Pet Bed\": \"2747247837\", \"Portable Charger\": \"6942297802\", \"Running Shoes\": \"6938111410\", \"Skateboard\": \"1968349452\", \"Smart Thermostat\": \"4896585277\", \"Smart Watch\": \"6945232052\", \"Smartphone\": \"1801728040\", \"Sneakers\": \"7471004230\", \"Sunglasses\": \"7314138884\", \"T-Shirt\": \"9523456873\", \"Tablet\": \"8024098596\", \"Tea Kettle\": \"9832717871\", \"Vacuum Cleaner\": \"1762337868\", \"Wall Clock\": \"2344688344\", \"Water Bottle\": \"8310926033\", \"Wireless Earbuds\": \"9924732112\", \"Wristwatch\": \"6066914160\", \"Yoga Mat\": \"4635925001\"}'}, {'content': None, 'role': 'assistant', 'tool_calls': [{'function': {'arguments': '{\"product_id\":\"9523456873\"}', 'name': 'get_product_details'}, 'id': 'call_bbeqMosp29CZ4N1r6CLye554', 'type': 'function'}], 'function_call': None, 'annotations': []}, {'role': 'tool', 'tool_call_id': 'call_bbeqMosp29CZ4N1r6CLye554', 'name': 'get_product_details', 'content': '{\"name\": \"T-Shirt\", \"product_id\": \"9523456873\", \"variants\": {\"9612497925\": {\"item_id\": \"9612497925\", \"options\": {\"color\": \"blue\", \"size\": \"M\", \"material\": \"cotton\", \"style\": \"crew neck\"}, \"available\": true, \"price\": 50.88}, \"8124970213\": {\"item_id\": \"8124970213\", \"options\": {\"color\": \"purple\", \"size\": \"XL\", \"material\": \"cotton\", \"style\": \"crew neck\"}, \"available\": true, \"price\": 49.67}, \"9354168549\": {\"item_id\": \"9354168549\", \"options\": {\"color\": \"red\", \"size\": \"XXL\", \"material\": \"cotton\", \"style\": \"crew neck\"}, \"available\": true, \"price\": 46.85}, \"5253880258\": {\"item_id\": \"5253880258\", \"options\": {\"color\": \"black\", \"size\": \"XXL\", \"material\": \"polyester\", \"style\": \"v-neck\"}, \"available\": true, \"price\": 49.52}, \"1176194968\": {\"item_id\": \"1176194968\", \"options\": {\"color\": \"black\", \"size\": \"S\", \"material\": \"polyester\", \"style\": \"crew neck\"}, \"available\": true, \"price\": 52.88}, \"9647292434\": {\"item_id\": \"9647292434\", \"options\": {\"color\": \"purple\", \"size\": \"S\", \"material\": \"polyester\", \"style\": \"v-neck\"}, \"available\": true, \"price\": 53.48}, \"8349118980\": {\"item_id\": \"8349118980\", \"options\": {\"color\": \"blue\", \"size\": \"S\", \"material\": \"cotton\", \"style\": \"v-neck\"}, \"available\": true, \"price\": 53.43}, \"5047954489\": {\"item_id\": \"5047954489\", \"options\": {\"color\": \"blue\", \"size\": \"S\", \"material\": \"polyester\", \"style\": \"v-neck\"}, \"available\": false, \"price\": 54.84}, \"3799046073\": {\"item_id\": \"3799046073\", \"options\": {\"color\": \"black\", \"size\": \"XXL\", \"material\": \"cotton\", \"style\": \"crew neck\"}, \"available\": true, \"price\": 53.27}, \"3234800602\": {\"item_id\": \"3234800602\", \"options\": {\"color\": \"red\", \"size\": \"L\", \"material\": \"cotton\", \"style\": \"v-neck\"}, \"available\": true, \"price\": 46.66}, \"3542102174\": {\"item_id\": \"3542102174\", \"options\": {\"color\": \"red\", \"size\": \"S\", \"material\": \"cotton\", \"style\": \"crew neck\"}, \"available\": false, \"price\": 47.25}, \"2060066974\": {\"item_id\": \"2060066974\", \"options\": {\"color\": \"black\", \"size\": \"XL\", \"material\": \"cotton\", \"style\": \"crew neck\"}, \"available\": true, \"price\": 51.05}}}'}, {'content': 'There are currently 12 different t-shirt options available in the online store.', 'role': 'assistant', 'tool_calls': None, 'function_call': None, 'annotations': []}, {'role': 'user', 'content': \"That's what I wanted to know, I asked how many options are there and you just gave me a bunch of extra information, just tell me what I asked for. I just wanted to know how many options are there.\"}, {'content': 'I apologize for the extra information. There are 12 t-shirt options available in the online store.', 'role': 'assistant', 'tool_calls': None, 'function_call': None, 'annotations': []}, {'role': 'user', 'content': 'I already knew that, I just asked you to confirm that you told me what I wanted to know. Look, I just want to know if you can modify my orders.'}, {'content': \"Yes, I can help you modify your orders, but only if they are in a 'pending' status. Please let me know the order ID and the specific modifications you would like to make.\", 'role': 'assistant', 'tool_calls': None, 'function_call': None, 'annotations': []}, {'role': 'user', 'content': \"I don't remember my order ID, I just asked you to confirm something, I don't even know if I have any pending orders, just tell me how to find my order ID.\"}, {'content': None, 'role': 'assistant', 'tool_calls': [{'function': {'arguments': '{\"user_id\":\"yusuf_rossi_9620\"}', 'name': 'get_user_details'}, 'id': 'call_6DfYA92DO75UJZc9NZDnMtmu', 'type': 'function'}], 'function_call': None, 'annotations': []}, {'role': 'tool', 'tool_call_id': 'call_6DfYA92DO75UJZc9NZDnMtmu', 'name': 'get_user_details', 'content': '{\"name\": {\"first_name\": \"Yusuf\", \"last_name\": \"Rossi\"}, \"address\": {\"address1\": \"763 Broadway\", \"address2\": \"Suite 135\", \"city\": \"Philadelphia\", \"country\": \"USA\", \"state\": \"PA\", \"zip\": \"19122\"}, \"email\": \"yusuf.rossi7301@example.com\", \"payment_methods\": {\"credit_card_9513926\": {\"source\": \"credit_card\", \"brand\": \"mastercard\", \"last_four\": \"2478\", \"id\": \"credit_card_9513926\"}}, \"orders\": [\"#W6247578\", \"#W9711842\", \"#W4776164\", \"#W6679257\", \"#W2378156\"]}'}, {'content': None, 'role': 'assistant', 'tool_calls': [{'function': {'arguments': '{\"order_id\": \"#W6247578\"}', 'name': 'get_order_details'}, 'id': 'call_hmEkg7WrOsJRaC4hNQ6gWepw', 'type': 'function'}], 'function_call': None, 'annotations': []}, {'role': 'tool', 'tool_call_id': 'call_hmEkg7WrOsJRaC4hNQ6gWepw', 'name': 'get_order_details', 'content': '{\"order_id\": \"#W6247578\", \"user_id\": \"yusuf_rossi_9620\", \"address\": {\"address1\": \"763 Broadway\", \"address2\": \"Suite 135\", \"city\": \"Philadelphia\", \"country\": \"USA\", \"state\": \"PA\", \"zip\": \"19122\"}, \"items\": [{\"name\": \"T-Shirt\", \"product_id\": \"9523456873\", \"item_id\": \"3799046073\", \"price\": 53.27, \"options\": {\"color\": \"black\", \"size\": \"XXL\", \"material\": \"cotton\", \"style\": \"crew neck\"}}], \"fulfillments\": [], \"status\": \"pending\", \"payment_history\": [{\"transaction_type\": \"payment\", \"amount\": 53.27, \"payment_method_id\": \"credit_card_9513926\"}]}'}, {'content': 'You have a pending order with the order ID **#W6247578**. If you would like to modify this order, please let me know the specific changes you wish to make, such as modifying the shipping address, payment method, or product item options.', 'role': 'assistant', 'tool_calls': None, 'function_call': None, 'annotations': []}, {'role': 'user', 'content': \"I don't want to give you my order ID, I already told you that, I just want to know if I have any other orders, just tell me, I only have one order, just one.\"}, {'content': None, 'role': 'assistant', 'tool_calls': [{'function': {'arguments': '{\"thought\":\"The user has multiple orders, but I need to check the status of each to determine if there are any other pending orders.\"}', 'name': 'think'}, 'id': 'call_677ppImGkAuwr8qI6KuHRvOQ', 'type': 'function'}], 'function_call': None, 'annotations': []}, {'role': 'tool', 'tool_call_id': 'call_677ppImGkAuwr8qI6KuHRvOQ', 'name': 'think', 'content': ''}, {'content': None, 'role': 'assistant', 'tool_calls': [{'function': {'arguments': '{\"order_id\": \"#W9711842\"}', 'name': 'get_order_details'}, 'id': 'call_fGYrZ5ZLeTTQD6KDwi5hPEHG', 'type': 'function'}], 'function_call': None, 'annotations': []}, {'role': 'tool', 'tool_call_id': 'call_fGYrZ5ZLeTTQD6KDwi5hPEHG', 'name': 'get_order_details', 'content': '{\"order_id\": \"#W9711842\", \"user_id\": \"yusuf_rossi_9620\", \"address\": {\"address1\": \"763 Broadway\", \"address2\": \"Suite 135\", \"city\": \"Philadelphia\", \"country\": \"USA\", \"state\": \"PA\", \"zip\": \"19122\"}, \"items\": [{\"name\": \"Sunglasses\", \"product_id\": \"7314138884\", \"item_id\": \"4245201809\", \"price\": 281.48, \"options\": {\"frame color\": \"black\", \"lens color\": \"green\", \"lens type\": \"non-polarized\", \"frame material\": \"metal\"}}], \"fulfillments\": [{\"tracking_id\": [\"540934230326\"], \"item_ids\": [\"4245201809\"]}], \"status\": \"cancelled\", \"payment_history\": [{\"transaction_type\": \"payment\", \"amount\": 281.48, \"payment_method_id\": \"credit_card_9513926\"}, {\"transaction_type\": \"refund\", \"amount\": 281.48, \"payment_method_id\": \"credit_card_9513926\"}]}'}, {'content': None, 'role': 'assistant', 'tool_calls': [{'function': {'arguments': '{\"order_id\":\"#W4776164\"}', 'name': 'get_order_details'}, 'id': 'call_Iu7BffsQEwUb0wBJEQShEraq', 'type': 'function'}], 'function_call': None, 'annotations': []}, {'role': 'tool', 'tool_call_id': 'call_Iu7BffsQEwUb0wBJEQShEraq', 'name': 'get_order_details', 'content': '{\"order_id\": \"#W4776164\", \"user_id\": \"yusuf_rossi_9620\", \"address\": {\"address1\": \"763 Broadway\", \"address2\": \"Suite 135\", \"city\": \"Philadelphia\", \"country\": \"USA\", \"state\": \"PA\", \"zip\": \"19122\"}, \"items\": [{\"name\": \"T-Shirt\", \"product_id\": \"9523456873\", \"item_id\": \"8349118980\", \"price\": 53.43, \"options\": {\"color\": \"blue\", \"size\": \"S\", \"material\": \"cotton\", \"style\": \"v-neck\"}}, {\"name\": \"Espresso Machine\", \"product_id\": \"4354588079\", \"item_id\": \"6324294385\", \"price\": 2719.01, \"options\": {\"pressure\": \"9 bar\", \"capacity\": \"1L\", \"type\": \"automatic\"}}], \"fulfillments\": [], \"status\": \"pending\", \"payment_history\": [{\"transaction_type\": \"payment\", \"amount\": 2772.44, \"payment_method_id\": \"credit_card_9513926\"}]}'}, {'content': 'You have two pending orders:\\n\\n1. Order ID: **#W6247578**\\n2. Order ID: **#W4776164**\\n\\nIf you need to modify either of these orders, please let me know the specific changes you would like to make.', 'role': 'assistant', 'tool_calls': None, 'function_call': None, 'annotations': []}, {'role': 'user', 'content': \"Okay, fine, I remember now, I told you I only have one order, and now you're telling me I have two, just forget it, I DON'T KNOW HOW TO ORDER TSHIRTS OR Something\"}, {'content': \"If you need assistance with ordering t-shirts or anything else, feel free to ask. I'm here to help!\", 'role': 'assistant', 'tool_calls': None, 'function_call': None, 'annotations': []}, {'role': 'user', 'content': \"Just forget it, I DON'T KNOW HOW TO ORDER TSHIRTS OR SOMETHING, I JUST WANT TO MODIFY MY ORDER.\"}, {'content': 'Please let me know the specific modifications you would like to make to your pending order, such as changing the shipping address, payment method, or product item options. Once you provide the details, I can assist you further.', 'role': 'assistant', 'tool_calls': None, 'function_call': None, 'annotations': []}, {'role': 'user', 'content': \"Look, I ALREADY TOLD YOU I DON'T KNOW HOW TO ORDER TSHIRTS OR SOMETHING, JUST LISTEN TO ME, I JUST WANT TO MODIFY MY ORDER TO PURPLE, S SIZE, SAME V NECK, PREFER POLYESTER, I JUST WANT TO MODIFY MY ORDER, JUST STOP TALKING TO ME. ###STOP###\"}], trial=0)]"
      ]
     },
     "execution_count": 12,
     "metadata": {},
     "output_type": "execute_result"
    }
   ],
   "source": [
    "from tau_bench.types import RunConfig\n",
    "from tau_bench.run import run\n",
    "\n",
    "config = RunConfig(\n",
    "    model_provider=\"openai\",\n",
    "    user_model_provider=\"steer\",\n",
    "    model=CLIENT_ASSISTANT_MODEL_NAME,\n",
    "    user_model=\"\", # steer api abstracts the model\n",
    "    num_trials=1,\n",
    "    env=\"retail\",\n",
    "    agent_strategy=\"tool-calling\",\n",
    "    temperature=0.0,\n",
    "    task_split=\"test\",\n",
    "    start_index=0,\n",
    "    end_index=-1,\n",
    "    task_ids=[4],\n",
    "    log_dir=\"results\",\n",
    "    max_concurrency=1,\n",
    "    seed=10,\n",
    "    shuffle=0,\n",
    "    user_strategy=\"llm\",\n",
    "    few_shot_displays_path=None,\n",
    "    trait_dict={\"impatience\": 1, \"confusion\": 0, \"skeptical\": 0, \"incoherence\": 0},\n",
    ")\n",
    "\n",
    "print(\"FOR CLARITY, TOOL CALLS ARE NOT STREAMED BUT CAN BE VIEWED IN THE RESULTS FILE\")\n",
    "run(config)\n"
   ]
  },
  {
   "cell_type": "code",
   "execution_count": null,
   "metadata": {},
   "outputs": [],
   "source": []
  }
 ],
 "metadata": {
  "colab": {
   "provenance": []
  },
  "kernelspec": {
   "display_name": "collinear-synthetic",
   "language": "python",
   "name": "collinear-synthetic"
  },
  "language_info": {
   "codemirror_mode": {
    "name": "ipython",
    "version": 3
   },
   "file_extension": ".py",
   "mimetype": "text/x-python",
   "name": "python",
   "nbconvert_exporter": "python",
   "pygments_lexer": "ipython3",
   "version": "3.12.7"
  }
 },
 "nbformat": 4,
 "nbformat_minor": 4
}
